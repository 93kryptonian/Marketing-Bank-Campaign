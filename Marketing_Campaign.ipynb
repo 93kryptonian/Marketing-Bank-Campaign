{
 "cells": [
  {
   "cell_type": "markdown",
   "metadata": {},
   "source": [
    "# Bank marketing campaign | Predictive analytics"
   ]
  },
  {
   "cell_type": "markdown",
   "metadata": {},
   "source": [
    "## Business Problem Understanding"
   ]
  },
  {
   "cell_type": "markdown",
   "metadata": {},
   "source": [
    "### Background\n",
    "Sebuah Bank swasta mengalami penurunan revenue, manajemen meminta tim Data Scientist untuk menemukan penyebab serta bisa menaikkan Revenue Bank tsb."
   ]
  },
  {
   "cell_type": "markdown",
   "metadata": {},
   "source": [
    "### Problem Statement\n",
    "Setelah melakukan investigasi, tim menemukan permasalahan bahwa nasabah tidak melakukan deposit sesering sebelumnya, Deposito membuat Bank bisa memegang uang nasabah dalam jangka waktu tertentu sehingga Bank dapat menginvestasikan uang tersebut untuk beberapa produk bank yg dapat meningkatkan profit. Bank juga memiliki kesempatan lebih tinggi untuk membujuk nasabah depositio untuk membeli Produk Bank lain."
   ]
  },
  {
   "cell_type": "markdown",
   "metadata": {},
   "source": [
    "### Goals\n",
    "Sesuai dengan analisa di atas, Bank ingin mengidentifikasi Nasabah yg memiliki kemungkinan besar untuk mendaftar Deposito, sehingga Bank bisa lebih mefokuskan usaha-effort dari tim Marketing"
   ]
  },
  {
   "cell_type": "markdown",
   "metadata": {},
   "source": [
    "### Analytics Approach\n",
    "Pendekatan analisis yg akan kita gunakan adalah Predictive Analytics, Kita akan membangun model klasifikasi yang akan membantu Bank untuk dapat memprediksi probabilitas seorang Nasabah akan/ingin mendaftar deposito atau tidak, Model akan digunakan sebelum tim marketing melakukan kontak dg Nasabah."
   ]
  },
  {
   "cell_type": "markdown",
   "metadata": {},
   "source": [
    "### Features  Overview\n",
    "\n",
    "Feature description\n",
    "\n",
    "Bank client data:\n",
    "\n",
    "    1 - age (numeric)\n",
    "    2 - job : type of job (categorical: 'admin.','blue-collar','entrepreneur','housemaid','management','retired','self-employed','services','student','technician','unemployed','unknown')\n",
    "    3 - marital : marital status (categorical: 'divorced','married','single','unknown'; note: 'divorced' means divorced or widowed)\n",
    "    4 - education (categorical: basic.4y','basic.6y','basic.9y','high.school','illiterate','professional.course','university.degree','unknown')\n",
    "    5 - default: has credit in default? (categorical: 'no','yes','unknown')\n",
    "    6 - housing: has housing loan? (categorical: 'no','yes','unknown')\n",
    "    7 - loan: has personal loan? (categorical: 'no','yes','unknown')\n",
    "\n",
    "Related with the last contact of the current campaign:\n",
    "\n",
    "    8 - contact: contact communication type (categorical: 'cellular','telephone')\n",
    "    9 - month: last contact month of year (categorical: 'jan', 'feb', 'mar', ..., 'nov', 'dec')\n",
    "    10 - day_of_week: last contact day of the week (categorical: 'mon','tue','wed','thu','fri')\n",
    "    11 - duration: last contact duration, in seconds (numeric). Important note: this attribute highly affects the output target (e.g., if duration=0 then y='no'). Yet, the duration is not known before a call is performed. Also, after the end of the call y is obviously known. Thus, this input should only be included for benchmark purposes and should be discarded if the intention is to have a realistic predictive model.\n",
    "\n",
    "other attributes:\n",
    "\n",
    "    12 - campaign: number of contacts performed during this campaign and for this client (numeric, includes last contact)\n",
    "    13 - pdays: number of days that passed by after the client was last contacted from a previous campaign (numeric; 999 means client was not previously contacted)\n",
    "    14 - previous: number of contacts performed before this campaign and for this client (numeric)\n",
    "    15 - poutcome: outcome of the previous marketing campaign (categorical: 'failure','nonexistent','success')\n",
    "\n",
    "social and economic context attributes\n",
    "\n",
    "    16 - emp.var.rate: employment variation rate - quarterly indicator (numeric)\n",
    "    17 - cons.price.idx: consumer price index - monthly indicator (numeric)\n",
    "    18 - cons.conf.idx: consumer confidence index - monthly indicator (numeric)\n",
    "    19 - euribor3m: euribor 3 month rate - daily indicator (numeric)\n",
    "    20 - nr.employed: number of employees - quarterly indicator (numeric)\n",
    "\n",
    "Output variable (desired target):\n",
    "\n",
    "    21 - y - has the client subscribed a term deposit? (binary: 'yes','no')\n",
    "\n"
   ]
  },
  {
   "cell_type": "markdown",
   "metadata": {},
   "source": [
    "## Evaluation Metrics"
   ]
  },
  {
   "cell_type": "markdown",
   "metadata": {},
   "source": [
    "<img src='Eva_Metrics.png'>"
   ]
  },
  {
   "cell_type": "markdown",
   "metadata": {},
   "source": [
    "\n",
    "\n",
    "Type 1 error : False Positive\n",
    "\n",
    "Konsekuensi: sia-sianya biaya komunikasi, waktu dan sumber daya lain\n",
    "\n",
    "Type 2 error : False Negative\n",
    "\n",
    "Konsekuensi: kehilangan nasabah potensial\n",
    "\n",
    "Berdasarkan konsekuensinya, maka sebisa mungkin yang akan kita lakukan adalah membuat model yang dapat mengurangi cost marketing dari perusahaan tersebut, tetapi tanpa membuat menjadi kurangnya nasabah potensial yang dibutuhkan perusahaan. Jadi harus kita seimbangkan nanti antara precision dan recallnya dari kelas positive. Jadi nanti metric utama yang akan kita gunakan adalah roc_auc.\n"
   ]
  },
  {
   "cell_type": "markdown",
   "metadata": {},
   "source": [
    "### Import Package"
   ]
  },
  {
   "cell_type": "code",
   "execution_count": 60,
   "metadata": {},
   "outputs": [],
   "source": [
    "# Library\n",
    "\n",
    "import pandas as pd\n",
    "import numpy as np\n",
    "\n",
    "# Visualization\n",
    "import matplotlib.pyplot as plt\n",
    "import seaborn as sns\n",
    "import missingno\n",
    "from IPython.display import display\n",
    "\n",
    "# Feature Engineering\n",
    "from sklearn.pipeline import Pipeline\n",
    "from sklearn.impute import SimpleImputer\n",
    "from sklearn.preprocessing import OneHotEncoder, LabelEncoder, OrdinalEncoder\n",
    "from sklearn.compose import ColumnTransformer\n",
    "\n",
    "# Model Selection\n",
    "from sklearn.linear_model import LogisticRegression\n",
    "from sklearn.tree import DecisionTreeClassifier\n",
    "from sklearn.model_selection import GridSearchCV,StratifiedKFold,train_test_split, cross_val_score\n",
    "from sklearn.metrics import classification_report, confusion_matrix\n",
    "from sklearn.neighbors import KNeighborsClassifier\n",
    "from sklearn.ensemble import RandomForestClassifier, ExtraTreesClassifier\n",
    "\n",
    "\n",
    "## Model Evaluation\n",
    "from sklearn.metrics import f1_score, accuracy_score, recall_score, precision_score\n",
    "from sklearn.metrics import roc_curve, roc_auc_score, plot_roc_curve\n",
    "\n",
    "from imblearn.pipeline import Pipeline\n",
    "from imblearn.over_sampling import RandomOverSampler\n",
    "\n",
    "import warnings\n",
    "warnings.filterwarnings('ignore')"
   ]
  },
  {
   "cell_type": "markdown",
   "metadata": {},
   "source": [
    "# Load dataset"
   ]
  },
  {
   "cell_type": "code",
   "execution_count": 2,
   "metadata": {},
   "outputs": [
    {
     "data": {
      "text/html": [
       "<div>\n",
       "<style scoped>\n",
       "    .dataframe tbody tr th:only-of-type {\n",
       "        vertical-align: middle;\n",
       "    }\n",
       "\n",
       "    .dataframe tbody tr th {\n",
       "        vertical-align: top;\n",
       "    }\n",
       "\n",
       "    .dataframe thead th {\n",
       "        text-align: right;\n",
       "    }\n",
       "</style>\n",
       "<table border=\"1\" class=\"dataframe\">\n",
       "  <thead>\n",
       "    <tr style=\"text-align: right;\">\n",
       "      <th></th>\n",
       "      <th>age</th>\n",
       "      <th>job</th>\n",
       "      <th>marital</th>\n",
       "      <th>education</th>\n",
       "      <th>default</th>\n",
       "      <th>housing</th>\n",
       "      <th>loan</th>\n",
       "      <th>contact</th>\n",
       "      <th>month</th>\n",
       "      <th>day_of_week</th>\n",
       "      <th>...</th>\n",
       "      <th>campaign</th>\n",
       "      <th>pdays</th>\n",
       "      <th>previous</th>\n",
       "      <th>poutcome</th>\n",
       "      <th>emp.var.rate</th>\n",
       "      <th>cons.price.idx</th>\n",
       "      <th>cons.conf.idx</th>\n",
       "      <th>euribor3m</th>\n",
       "      <th>nr.employed</th>\n",
       "      <th>y</th>\n",
       "    </tr>\n",
       "  </thead>\n",
       "  <tbody>\n",
       "    <tr>\n",
       "      <th>0</th>\n",
       "      <td>56</td>\n",
       "      <td>housemaid</td>\n",
       "      <td>married</td>\n",
       "      <td>basic.4y</td>\n",
       "      <td>no</td>\n",
       "      <td>no</td>\n",
       "      <td>no</td>\n",
       "      <td>telephone</td>\n",
       "      <td>may</td>\n",
       "      <td>mon</td>\n",
       "      <td>...</td>\n",
       "      <td>1</td>\n",
       "      <td>999</td>\n",
       "      <td>0</td>\n",
       "      <td>nonexistent</td>\n",
       "      <td>1.1</td>\n",
       "      <td>93.994</td>\n",
       "      <td>-36.4</td>\n",
       "      <td>4.857</td>\n",
       "      <td>5191.0</td>\n",
       "      <td>no</td>\n",
       "    </tr>\n",
       "    <tr>\n",
       "      <th>1</th>\n",
       "      <td>57</td>\n",
       "      <td>services</td>\n",
       "      <td>married</td>\n",
       "      <td>high.school</td>\n",
       "      <td>unknown</td>\n",
       "      <td>no</td>\n",
       "      <td>no</td>\n",
       "      <td>telephone</td>\n",
       "      <td>may</td>\n",
       "      <td>mon</td>\n",
       "      <td>...</td>\n",
       "      <td>1</td>\n",
       "      <td>999</td>\n",
       "      <td>0</td>\n",
       "      <td>nonexistent</td>\n",
       "      <td>1.1</td>\n",
       "      <td>93.994</td>\n",
       "      <td>-36.4</td>\n",
       "      <td>4.857</td>\n",
       "      <td>5191.0</td>\n",
       "      <td>no</td>\n",
       "    </tr>\n",
       "    <tr>\n",
       "      <th>2</th>\n",
       "      <td>37</td>\n",
       "      <td>services</td>\n",
       "      <td>married</td>\n",
       "      <td>high.school</td>\n",
       "      <td>no</td>\n",
       "      <td>yes</td>\n",
       "      <td>no</td>\n",
       "      <td>telephone</td>\n",
       "      <td>may</td>\n",
       "      <td>mon</td>\n",
       "      <td>...</td>\n",
       "      <td>1</td>\n",
       "      <td>999</td>\n",
       "      <td>0</td>\n",
       "      <td>nonexistent</td>\n",
       "      <td>1.1</td>\n",
       "      <td>93.994</td>\n",
       "      <td>-36.4</td>\n",
       "      <td>4.857</td>\n",
       "      <td>5191.0</td>\n",
       "      <td>no</td>\n",
       "    </tr>\n",
       "    <tr>\n",
       "      <th>3</th>\n",
       "      <td>40</td>\n",
       "      <td>admin.</td>\n",
       "      <td>married</td>\n",
       "      <td>basic.6y</td>\n",
       "      <td>no</td>\n",
       "      <td>no</td>\n",
       "      <td>no</td>\n",
       "      <td>telephone</td>\n",
       "      <td>may</td>\n",
       "      <td>mon</td>\n",
       "      <td>...</td>\n",
       "      <td>1</td>\n",
       "      <td>999</td>\n",
       "      <td>0</td>\n",
       "      <td>nonexistent</td>\n",
       "      <td>1.1</td>\n",
       "      <td>93.994</td>\n",
       "      <td>-36.4</td>\n",
       "      <td>4.857</td>\n",
       "      <td>5191.0</td>\n",
       "      <td>no</td>\n",
       "    </tr>\n",
       "    <tr>\n",
       "      <th>4</th>\n",
       "      <td>56</td>\n",
       "      <td>services</td>\n",
       "      <td>married</td>\n",
       "      <td>high.school</td>\n",
       "      <td>no</td>\n",
       "      <td>no</td>\n",
       "      <td>yes</td>\n",
       "      <td>telephone</td>\n",
       "      <td>may</td>\n",
       "      <td>mon</td>\n",
       "      <td>...</td>\n",
       "      <td>1</td>\n",
       "      <td>999</td>\n",
       "      <td>0</td>\n",
       "      <td>nonexistent</td>\n",
       "      <td>1.1</td>\n",
       "      <td>93.994</td>\n",
       "      <td>-36.4</td>\n",
       "      <td>4.857</td>\n",
       "      <td>5191.0</td>\n",
       "      <td>no</td>\n",
       "    </tr>\n",
       "  </tbody>\n",
       "</table>\n",
       "<p>5 rows × 21 columns</p>\n",
       "</div>"
      ],
      "text/plain": [
       "   age        job  marital    education  default housing loan    contact  \\\n",
       "0   56  housemaid  married     basic.4y       no      no   no  telephone   \n",
       "1   57   services  married  high.school  unknown      no   no  telephone   \n",
       "2   37   services  married  high.school       no     yes   no  telephone   \n",
       "3   40     admin.  married     basic.6y       no      no   no  telephone   \n",
       "4   56   services  married  high.school       no      no  yes  telephone   \n",
       "\n",
       "  month day_of_week  ...  campaign  pdays  previous     poutcome emp.var.rate  \\\n",
       "0   may         mon  ...         1    999         0  nonexistent          1.1   \n",
       "1   may         mon  ...         1    999         0  nonexistent          1.1   \n",
       "2   may         mon  ...         1    999         0  nonexistent          1.1   \n",
       "3   may         mon  ...         1    999         0  nonexistent          1.1   \n",
       "4   may         mon  ...         1    999         0  nonexistent          1.1   \n",
       "\n",
       "   cons.price.idx  cons.conf.idx  euribor3m  nr.employed   y  \n",
       "0          93.994          -36.4      4.857       5191.0  no  \n",
       "1          93.994          -36.4      4.857       5191.0  no  \n",
       "2          93.994          -36.4      4.857       5191.0  no  \n",
       "3          93.994          -36.4      4.857       5191.0  no  \n",
       "4          93.994          -36.4      4.857       5191.0  no  \n",
       "\n",
       "[5 rows x 21 columns]"
      ]
     },
     "execution_count": 2,
     "metadata": {},
     "output_type": "execute_result"
    }
   ],
   "source": [
    "#Load Dataset\n",
    "df = pd.read_csv(\"bank.csv\", sep=';')\n",
    "df.head()"
   ]
  },
  {
   "cell_type": "markdown",
   "metadata": {},
   "source": [
    "## Overview Data"
   ]
  },
  {
   "cell_type": "code",
   "execution_count": 3,
   "metadata": {},
   "outputs": [
    {
     "name": "stdout",
     "output_type": "stream",
     "text": [
      "<class 'pandas.core.frame.DataFrame'>\n",
      "RangeIndex: 41188 entries, 0 to 41187\n",
      "Data columns (total 21 columns):\n",
      "age               41188 non-null int64\n",
      "job               41188 non-null object\n",
      "marital           41188 non-null object\n",
      "education         41188 non-null object\n",
      "default           41188 non-null object\n",
      "housing           41188 non-null object\n",
      "loan              41188 non-null object\n",
      "contact           41188 non-null object\n",
      "month             41188 non-null object\n",
      "day_of_week       41188 non-null object\n",
      "duration          41188 non-null int64\n",
      "campaign          41188 non-null int64\n",
      "pdays             41188 non-null int64\n",
      "previous          41188 non-null int64\n",
      "poutcome          41188 non-null object\n",
      "emp.var.rate      41188 non-null float64\n",
      "cons.price.idx    41188 non-null float64\n",
      "cons.conf.idx     41188 non-null float64\n",
      "euribor3m         41188 non-null float64\n",
      "nr.employed       41188 non-null float64\n",
      "y                 41188 non-null object\n",
      "dtypes: float64(5), int64(5), object(11)\n",
      "memory usage: 6.6+ MB\n"
     ]
    }
   ],
   "source": [
    "# Count and Datatype for each Column\n",
    "df.info()"
   ]
  },
  {
   "cell_type": "markdown",
   "metadata": {},
   "source": [
    "Melakukan Pengecekan Distribusi Data (balance atau imbalance)"
   ]
  },
  {
   "cell_type": "code",
   "execution_count": 4,
   "metadata": {},
   "outputs": [
    {
     "data": {
      "text/plain": [
       "no     88.734583\n",
       "yes    11.265417\n",
       "Name: y, dtype: float64"
      ]
     },
     "execution_count": 4,
     "metadata": {},
     "output_type": "execute_result"
    }
   ],
   "source": [
    "df.y.value_counts()/len(df)*100"
   ]
  },
  {
   "cell_type": "markdown",
   "metadata": {},
   "source": [
    "Terlihat disini data Imbalance"
   ]
  },
  {
   "cell_type": "code",
   "execution_count": null,
   "metadata": {},
   "outputs": [],
   "source": []
  },
  {
   "cell_type": "code",
   "execution_count": 5,
   "metadata": {},
   "outputs": [],
   "source": [
    "# Encoding the Target\n",
    "df['y'] = df['y'].replace({\"yes\" : 1, \"no\" : 0})"
   ]
  },
  {
   "cell_type": "markdown",
   "metadata": {},
   "source": [
    "Melakukan Encoding target"
   ]
  },
  {
   "cell_type": "code",
   "execution_count": 6,
   "metadata": {},
   "outputs": [
    {
     "data": {
      "text/html": [
       "<div>\n",
       "<style scoped>\n",
       "    .dataframe tbody tr th:only-of-type {\n",
       "        vertical-align: middle;\n",
       "    }\n",
       "\n",
       "    .dataframe tbody tr th {\n",
       "        vertical-align: top;\n",
       "    }\n",
       "\n",
       "    .dataframe thead th {\n",
       "        text-align: right;\n",
       "    }\n",
       "</style>\n",
       "<table border=\"1\" class=\"dataframe\">\n",
       "  <thead>\n",
       "    <tr style=\"text-align: right;\">\n",
       "      <th></th>\n",
       "      <th>dataFeatures</th>\n",
       "      <th>dataType</th>\n",
       "      <th>null</th>\n",
       "      <th>nullPct</th>\n",
       "      <th>unique</th>\n",
       "      <th>uniqueSample</th>\n",
       "    </tr>\n",
       "  </thead>\n",
       "  <tbody>\n",
       "    <tr>\n",
       "      <th>0</th>\n",
       "      <td>age</td>\n",
       "      <td>int64</td>\n",
       "      <td>0</td>\n",
       "      <td>0.0</td>\n",
       "      <td>78</td>\n",
       "      <td>[45, 40]</td>\n",
       "    </tr>\n",
       "    <tr>\n",
       "      <th>1</th>\n",
       "      <td>job</td>\n",
       "      <td>object</td>\n",
       "      <td>0</td>\n",
       "      <td>0.0</td>\n",
       "      <td>12</td>\n",
       "      <td>[unknown, management]</td>\n",
       "    </tr>\n",
       "    <tr>\n",
       "      <th>2</th>\n",
       "      <td>marital</td>\n",
       "      <td>object</td>\n",
       "      <td>0</td>\n",
       "      <td>0.0</td>\n",
       "      <td>4</td>\n",
       "      <td>[single, married]</td>\n",
       "    </tr>\n",
       "    <tr>\n",
       "      <th>3</th>\n",
       "      <td>education</td>\n",
       "      <td>object</td>\n",
       "      <td>0</td>\n",
       "      <td>0.0</td>\n",
       "      <td>8</td>\n",
       "      <td>[unknown, basic.4y]</td>\n",
       "    </tr>\n",
       "    <tr>\n",
       "      <th>4</th>\n",
       "      <td>default</td>\n",
       "      <td>object</td>\n",
       "      <td>0</td>\n",
       "      <td>0.0</td>\n",
       "      <td>3</td>\n",
       "      <td>[no, unknown]</td>\n",
       "    </tr>\n",
       "    <tr>\n",
       "      <th>5</th>\n",
       "      <td>housing</td>\n",
       "      <td>object</td>\n",
       "      <td>0</td>\n",
       "      <td>0.0</td>\n",
       "      <td>3</td>\n",
       "      <td>[yes, unknown]</td>\n",
       "    </tr>\n",
       "    <tr>\n",
       "      <th>6</th>\n",
       "      <td>loan</td>\n",
       "      <td>object</td>\n",
       "      <td>0</td>\n",
       "      <td>0.0</td>\n",
       "      <td>3</td>\n",
       "      <td>[yes, unknown]</td>\n",
       "    </tr>\n",
       "    <tr>\n",
       "      <th>7</th>\n",
       "      <td>contact</td>\n",
       "      <td>object</td>\n",
       "      <td>0</td>\n",
       "      <td>0.0</td>\n",
       "      <td>2</td>\n",
       "      <td>[telephone, cellular]</td>\n",
       "    </tr>\n",
       "    <tr>\n",
       "      <th>8</th>\n",
       "      <td>month</td>\n",
       "      <td>object</td>\n",
       "      <td>0</td>\n",
       "      <td>0.0</td>\n",
       "      <td>10</td>\n",
       "      <td>[nov, aug]</td>\n",
       "    </tr>\n",
       "    <tr>\n",
       "      <th>9</th>\n",
       "      <td>day_of_week</td>\n",
       "      <td>object</td>\n",
       "      <td>0</td>\n",
       "      <td>0.0</td>\n",
       "      <td>5</td>\n",
       "      <td>[wed, thu]</td>\n",
       "    </tr>\n",
       "    <tr>\n",
       "      <th>10</th>\n",
       "      <td>duration</td>\n",
       "      <td>int64</td>\n",
       "      <td>0</td>\n",
       "      <td>0.0</td>\n",
       "      <td>1544</td>\n",
       "      <td>[956, 458]</td>\n",
       "    </tr>\n",
       "    <tr>\n",
       "      <th>11</th>\n",
       "      <td>campaign</td>\n",
       "      <td>int64</td>\n",
       "      <td>0</td>\n",
       "      <td>0.0</td>\n",
       "      <td>42</td>\n",
       "      <td>[39, 3]</td>\n",
       "    </tr>\n",
       "    <tr>\n",
       "      <th>12</th>\n",
       "      <td>pdays</td>\n",
       "      <td>int64</td>\n",
       "      <td>0</td>\n",
       "      <td>0.0</td>\n",
       "      <td>27</td>\n",
       "      <td>[13, 20]</td>\n",
       "    </tr>\n",
       "    <tr>\n",
       "      <th>13</th>\n",
       "      <td>previous</td>\n",
       "      <td>int64</td>\n",
       "      <td>0</td>\n",
       "      <td>0.0</td>\n",
       "      <td>8</td>\n",
       "      <td>[5, 0]</td>\n",
       "    </tr>\n",
       "    <tr>\n",
       "      <th>14</th>\n",
       "      <td>poutcome</td>\n",
       "      <td>object</td>\n",
       "      <td>0</td>\n",
       "      <td>0.0</td>\n",
       "      <td>3</td>\n",
       "      <td>[failure, nonexistent]</td>\n",
       "    </tr>\n",
       "    <tr>\n",
       "      <th>15</th>\n",
       "      <td>emp.var.rate</td>\n",
       "      <td>float64</td>\n",
       "      <td>0</td>\n",
       "      <td>0.0</td>\n",
       "      <td>10</td>\n",
       "      <td>[-1.8, -1.1]</td>\n",
       "    </tr>\n",
       "    <tr>\n",
       "      <th>16</th>\n",
       "      <td>cons.price.idx</td>\n",
       "      <td>float64</td>\n",
       "      <td>0</td>\n",
       "      <td>0.0</td>\n",
       "      <td>26</td>\n",
       "      <td>[94.055, 93.994]</td>\n",
       "    </tr>\n",
       "    <tr>\n",
       "      <th>17</th>\n",
       "      <td>cons.conf.idx</td>\n",
       "      <td>float64</td>\n",
       "      <td>0</td>\n",
       "      <td>0.0</td>\n",
       "      <td>26</td>\n",
       "      <td>[-41.8, -39.8]</td>\n",
       "    </tr>\n",
       "    <tr>\n",
       "      <th>18</th>\n",
       "      <td>euribor3m</td>\n",
       "      <td>float64</td>\n",
       "      <td>0</td>\n",
       "      <td>0.0</td>\n",
       "      <td>316</td>\n",
       "      <td>[0.652, 1.479]</td>\n",
       "    </tr>\n",
       "    <tr>\n",
       "      <th>19</th>\n",
       "      <td>nr.employed</td>\n",
       "      <td>float64</td>\n",
       "      <td>0</td>\n",
       "      <td>0.0</td>\n",
       "      <td>11</td>\n",
       "      <td>[5023.5, 5076.2]</td>\n",
       "    </tr>\n",
       "    <tr>\n",
       "      <th>20</th>\n",
       "      <td>y</td>\n",
       "      <td>int64</td>\n",
       "      <td>0</td>\n",
       "      <td>0.0</td>\n",
       "      <td>2</td>\n",
       "      <td>[0, 1]</td>\n",
       "    </tr>\n",
       "  </tbody>\n",
       "</table>\n",
       "</div>"
      ],
      "text/plain": [
       "      dataFeatures dataType  null  nullPct  unique            uniqueSample\n",
       "0              age    int64     0      0.0      78                [45, 40]\n",
       "1              job   object     0      0.0      12   [unknown, management]\n",
       "2          marital   object     0      0.0       4       [single, married]\n",
       "3        education   object     0      0.0       8     [unknown, basic.4y]\n",
       "4          default   object     0      0.0       3           [no, unknown]\n",
       "5          housing   object     0      0.0       3          [yes, unknown]\n",
       "6             loan   object     0      0.0       3          [yes, unknown]\n",
       "7          contact   object     0      0.0       2   [telephone, cellular]\n",
       "8            month   object     0      0.0      10              [nov, aug]\n",
       "9      day_of_week   object     0      0.0       5              [wed, thu]\n",
       "10        duration    int64     0      0.0    1544              [956, 458]\n",
       "11        campaign    int64     0      0.0      42                 [39, 3]\n",
       "12           pdays    int64     0      0.0      27                [13, 20]\n",
       "13        previous    int64     0      0.0       8                  [5, 0]\n",
       "14        poutcome   object     0      0.0       3  [failure, nonexistent]\n",
       "15    emp.var.rate  float64     0      0.0      10            [-1.8, -1.1]\n",
       "16  cons.price.idx  float64     0      0.0      26        [94.055, 93.994]\n",
       "17   cons.conf.idx  float64     0      0.0      26          [-41.8, -39.8]\n",
       "18       euribor3m  float64     0      0.0     316          [0.652, 1.479]\n",
       "19     nr.employed  float64     0      0.0      11        [5023.5, 5076.2]\n",
       "20               y    int64     0      0.0       2                  [0, 1]"
      ]
     },
     "execution_count": 6,
     "metadata": {},
     "output_type": "execute_result"
    }
   ],
   "source": [
    "## Overview Feature\n",
    "listItem = []\n",
    "for col in df.columns :\n",
    "    listItem.append([col, df[col].dtype, df[col].isna().sum(), round((df[col].isna().sum()/len(df[col])) * 100,2),\n",
    "                    df[col].nunique(), list(df[col].drop_duplicates().sample(2).values)]);\n",
    "\n",
    "dfDesc = pd.DataFrame(columns=['dataFeatures', 'dataType', 'null', 'nullPct', 'unique', 'uniqueSample'],\n",
    "                     data=listItem)\n",
    "dfDesc"
   ]
  },
  {
   "cell_type": "markdown",
   "metadata": {},
   "source": [
    "Melakukan pengecekan Missing value"
   ]
  },
  {
   "cell_type": "code",
   "execution_count": 7,
   "metadata": {},
   "outputs": [
    {
     "data": {
      "text/plain": [
       "age               0\n",
       "job               0\n",
       "marital           0\n",
       "education         0\n",
       "default           0\n",
       "housing           0\n",
       "loan              0\n",
       "contact           0\n",
       "month             0\n",
       "day_of_week       0\n",
       "duration          0\n",
       "campaign          0\n",
       "pdays             0\n",
       "previous          0\n",
       "poutcome          0\n",
       "emp.var.rate      0\n",
       "cons.price.idx    0\n",
       "cons.conf.idx     0\n",
       "euribor3m         0\n",
       "nr.employed       0\n",
       "y                 0\n",
       "dtype: int64"
      ]
     },
     "execution_count": 7,
     "metadata": {},
     "output_type": "execute_result"
    }
   ],
   "source": [
    "df.isna().sum()"
   ]
  },
  {
   "cell_type": "markdown",
   "metadata": {},
   "source": [
    "Sesuai data di atas, tidak ada Missing value di dataset kita, hanya saja ada beberapa data 'Unknown' yg bisa kita asumsikan sebagai Missing value"
   ]
  },
  {
   "cell_type": "markdown",
   "metadata": {},
   "source": [
    "## Data Preparation"
   ]
  },
  {
   "cell_type": "markdown",
   "metadata": {},
   "source": [
    "Melakukan pengecekan Deskriptif Statistik"
   ]
  },
  {
   "cell_type": "code",
   "execution_count": 8,
   "metadata": {},
   "outputs": [
    {
     "data": {
      "text/html": [
       "<div>\n",
       "<style scoped>\n",
       "    .dataframe tbody tr th:only-of-type {\n",
       "        vertical-align: middle;\n",
       "    }\n",
       "\n",
       "    .dataframe tbody tr th {\n",
       "        vertical-align: top;\n",
       "    }\n",
       "\n",
       "    .dataframe thead th {\n",
       "        text-align: right;\n",
       "    }\n",
       "</style>\n",
       "<table border=\"1\" class=\"dataframe\">\n",
       "  <thead>\n",
       "    <tr style=\"text-align: right;\">\n",
       "      <th></th>\n",
       "      <th>age</th>\n",
       "      <th>duration</th>\n",
       "      <th>campaign</th>\n",
       "      <th>pdays</th>\n",
       "      <th>previous</th>\n",
       "      <th>emp.var.rate</th>\n",
       "      <th>cons.price.idx</th>\n",
       "      <th>cons.conf.idx</th>\n",
       "      <th>euribor3m</th>\n",
       "      <th>nr.employed</th>\n",
       "      <th>y</th>\n",
       "    </tr>\n",
       "  </thead>\n",
       "  <tbody>\n",
       "    <tr>\n",
       "      <th>count</th>\n",
       "      <td>41188.00000</td>\n",
       "      <td>41188.000000</td>\n",
       "      <td>41188.000000</td>\n",
       "      <td>41188.000000</td>\n",
       "      <td>41188.000000</td>\n",
       "      <td>41188.000000</td>\n",
       "      <td>41188.000000</td>\n",
       "      <td>41188.000000</td>\n",
       "      <td>41188.000000</td>\n",
       "      <td>41188.000000</td>\n",
       "      <td>41188.000000</td>\n",
       "    </tr>\n",
       "    <tr>\n",
       "      <th>mean</th>\n",
       "      <td>40.02406</td>\n",
       "      <td>258.285010</td>\n",
       "      <td>2.567593</td>\n",
       "      <td>962.475454</td>\n",
       "      <td>0.172963</td>\n",
       "      <td>0.081886</td>\n",
       "      <td>93.575664</td>\n",
       "      <td>-40.502600</td>\n",
       "      <td>3.621291</td>\n",
       "      <td>5167.035911</td>\n",
       "      <td>0.112654</td>\n",
       "    </tr>\n",
       "    <tr>\n",
       "      <th>std</th>\n",
       "      <td>10.42125</td>\n",
       "      <td>259.279249</td>\n",
       "      <td>2.770014</td>\n",
       "      <td>186.910907</td>\n",
       "      <td>0.494901</td>\n",
       "      <td>1.570960</td>\n",
       "      <td>0.578840</td>\n",
       "      <td>4.628198</td>\n",
       "      <td>1.734447</td>\n",
       "      <td>72.251528</td>\n",
       "      <td>0.316173</td>\n",
       "    </tr>\n",
       "    <tr>\n",
       "      <th>min</th>\n",
       "      <td>17.00000</td>\n",
       "      <td>0.000000</td>\n",
       "      <td>1.000000</td>\n",
       "      <td>0.000000</td>\n",
       "      <td>0.000000</td>\n",
       "      <td>-3.400000</td>\n",
       "      <td>92.201000</td>\n",
       "      <td>-50.800000</td>\n",
       "      <td>0.634000</td>\n",
       "      <td>4963.600000</td>\n",
       "      <td>0.000000</td>\n",
       "    </tr>\n",
       "    <tr>\n",
       "      <th>25%</th>\n",
       "      <td>32.00000</td>\n",
       "      <td>102.000000</td>\n",
       "      <td>1.000000</td>\n",
       "      <td>999.000000</td>\n",
       "      <td>0.000000</td>\n",
       "      <td>-1.800000</td>\n",
       "      <td>93.075000</td>\n",
       "      <td>-42.700000</td>\n",
       "      <td>1.344000</td>\n",
       "      <td>5099.100000</td>\n",
       "      <td>0.000000</td>\n",
       "    </tr>\n",
       "    <tr>\n",
       "      <th>50%</th>\n",
       "      <td>38.00000</td>\n",
       "      <td>180.000000</td>\n",
       "      <td>2.000000</td>\n",
       "      <td>999.000000</td>\n",
       "      <td>0.000000</td>\n",
       "      <td>1.100000</td>\n",
       "      <td>93.749000</td>\n",
       "      <td>-41.800000</td>\n",
       "      <td>4.857000</td>\n",
       "      <td>5191.000000</td>\n",
       "      <td>0.000000</td>\n",
       "    </tr>\n",
       "    <tr>\n",
       "      <th>75%</th>\n",
       "      <td>47.00000</td>\n",
       "      <td>319.000000</td>\n",
       "      <td>3.000000</td>\n",
       "      <td>999.000000</td>\n",
       "      <td>0.000000</td>\n",
       "      <td>1.400000</td>\n",
       "      <td>93.994000</td>\n",
       "      <td>-36.400000</td>\n",
       "      <td>4.961000</td>\n",
       "      <td>5228.100000</td>\n",
       "      <td>0.000000</td>\n",
       "    </tr>\n",
       "    <tr>\n",
       "      <th>max</th>\n",
       "      <td>98.00000</td>\n",
       "      <td>4918.000000</td>\n",
       "      <td>56.000000</td>\n",
       "      <td>999.000000</td>\n",
       "      <td>7.000000</td>\n",
       "      <td>1.400000</td>\n",
       "      <td>94.767000</td>\n",
       "      <td>-26.900000</td>\n",
       "      <td>5.045000</td>\n",
       "      <td>5228.100000</td>\n",
       "      <td>1.000000</td>\n",
       "    </tr>\n",
       "  </tbody>\n",
       "</table>\n",
       "</div>"
      ],
      "text/plain": [
       "               age      duration      campaign         pdays      previous  \\\n",
       "count  41188.00000  41188.000000  41188.000000  41188.000000  41188.000000   \n",
       "mean      40.02406    258.285010      2.567593    962.475454      0.172963   \n",
       "std       10.42125    259.279249      2.770014    186.910907      0.494901   \n",
       "min       17.00000      0.000000      1.000000      0.000000      0.000000   \n",
       "25%       32.00000    102.000000      1.000000    999.000000      0.000000   \n",
       "50%       38.00000    180.000000      2.000000    999.000000      0.000000   \n",
       "75%       47.00000    319.000000      3.000000    999.000000      0.000000   \n",
       "max       98.00000   4918.000000     56.000000    999.000000      7.000000   \n",
       "\n",
       "       emp.var.rate  cons.price.idx  cons.conf.idx     euribor3m  \\\n",
       "count  41188.000000    41188.000000   41188.000000  41188.000000   \n",
       "mean       0.081886       93.575664     -40.502600      3.621291   \n",
       "std        1.570960        0.578840       4.628198      1.734447   \n",
       "min       -3.400000       92.201000     -50.800000      0.634000   \n",
       "25%       -1.800000       93.075000     -42.700000      1.344000   \n",
       "50%        1.100000       93.749000     -41.800000      4.857000   \n",
       "75%        1.400000       93.994000     -36.400000      4.961000   \n",
       "max        1.400000       94.767000     -26.900000      5.045000   \n",
       "\n",
       "        nr.employed             y  \n",
       "count  41188.000000  41188.000000  \n",
       "mean    5167.035911      0.112654  \n",
       "std       72.251528      0.316173  \n",
       "min     4963.600000      0.000000  \n",
       "25%     5099.100000      0.000000  \n",
       "50%     5191.000000      0.000000  \n",
       "75%     5228.100000      0.000000  \n",
       "max     5228.100000      1.000000  "
      ]
     },
     "execution_count": 8,
     "metadata": {},
     "output_type": "execute_result"
    }
   ],
   "source": [
    "df.describe()"
   ]
  },
  {
   "cell_type": "code",
   "execution_count": 9,
   "metadata": {},
   "outputs": [
    {
     "data": {
      "text/html": [
       "<div>\n",
       "<style scoped>\n",
       "    .dataframe tbody tr th:only-of-type {\n",
       "        vertical-align: middle;\n",
       "    }\n",
       "\n",
       "    .dataframe tbody tr th {\n",
       "        vertical-align: top;\n",
       "    }\n",
       "\n",
       "    .dataframe thead th {\n",
       "        text-align: right;\n",
       "    }\n",
       "</style>\n",
       "<table border=\"1\" class=\"dataframe\">\n",
       "  <thead>\n",
       "    <tr style=\"text-align: right;\">\n",
       "      <th></th>\n",
       "      <th>job</th>\n",
       "      <th>marital</th>\n",
       "      <th>education</th>\n",
       "      <th>default</th>\n",
       "      <th>housing</th>\n",
       "      <th>loan</th>\n",
       "      <th>contact</th>\n",
       "      <th>month</th>\n",
       "      <th>day_of_week</th>\n",
       "      <th>poutcome</th>\n",
       "    </tr>\n",
       "  </thead>\n",
       "  <tbody>\n",
       "    <tr>\n",
       "      <th>count</th>\n",
       "      <td>41188</td>\n",
       "      <td>41188</td>\n",
       "      <td>41188</td>\n",
       "      <td>41188</td>\n",
       "      <td>41188</td>\n",
       "      <td>41188</td>\n",
       "      <td>41188</td>\n",
       "      <td>41188</td>\n",
       "      <td>41188</td>\n",
       "      <td>41188</td>\n",
       "    </tr>\n",
       "    <tr>\n",
       "      <th>unique</th>\n",
       "      <td>12</td>\n",
       "      <td>4</td>\n",
       "      <td>8</td>\n",
       "      <td>3</td>\n",
       "      <td>3</td>\n",
       "      <td>3</td>\n",
       "      <td>2</td>\n",
       "      <td>10</td>\n",
       "      <td>5</td>\n",
       "      <td>3</td>\n",
       "    </tr>\n",
       "    <tr>\n",
       "      <th>top</th>\n",
       "      <td>admin.</td>\n",
       "      <td>married</td>\n",
       "      <td>university.degree</td>\n",
       "      <td>no</td>\n",
       "      <td>yes</td>\n",
       "      <td>no</td>\n",
       "      <td>cellular</td>\n",
       "      <td>may</td>\n",
       "      <td>thu</td>\n",
       "      <td>nonexistent</td>\n",
       "    </tr>\n",
       "    <tr>\n",
       "      <th>freq</th>\n",
       "      <td>10422</td>\n",
       "      <td>24928</td>\n",
       "      <td>12168</td>\n",
       "      <td>32588</td>\n",
       "      <td>21576</td>\n",
       "      <td>33950</td>\n",
       "      <td>26144</td>\n",
       "      <td>13769</td>\n",
       "      <td>8623</td>\n",
       "      <td>35563</td>\n",
       "    </tr>\n",
       "  </tbody>\n",
       "</table>\n",
       "</div>"
      ],
      "text/plain": [
       "           job  marital          education default housing   loan   contact  \\\n",
       "count    41188    41188              41188   41188   41188  41188     41188   \n",
       "unique      12        4                  8       3       3      3         2   \n",
       "top     admin.  married  university.degree      no     yes     no  cellular   \n",
       "freq     10422    24928              12168   32588   21576  33950     26144   \n",
       "\n",
       "        month day_of_week     poutcome  \n",
       "count   41188       41188        41188  \n",
       "unique     10           5            3  \n",
       "top       may         thu  nonexistent  \n",
       "freq    13769        8623        35563  "
      ]
     },
     "execution_count": 9,
     "metadata": {},
     "output_type": "execute_result"
    }
   ],
   "source": [
    "df.describe(include='O')"
   ]
  },
  {
   "cell_type": "markdown",
   "metadata": {},
   "source": [
    "Kita akan menghapus beberapa kolom yg data nya tidak bisa kita dapatkan ketika me-running model (Data didapatkan setelah Tim marketing kontak), sedangkan model digunakan sebelum tim marketing melakukan Kontak ke Nasabah,\n",
    "Beberapa kolom yg akan dihapus\n",
    "- duration\n",
    "- month\n",
    "- day_of_week\n",
    "\n",
    "kita juga akan menghapus kolom yg berkaitan dengan socio ekonomi, karena kolom ini tidak berkaitan langsung dengan Nasabah,\n",
    "Kolom tersebut adalah\n",
    "- emp.var.rate\n",
    "- cons.price.idx\n",
    "- cons.conf.idx\n",
    "- euribor3m\n",
    "- nr.employed"
   ]
  },
  {
   "cell_type": "code",
   "execution_count": 10,
   "metadata": {},
   "outputs": [],
   "source": [
    "df_1 = df.drop(columns=['duration', 'month', 'day_of_week', 'emp.var.rate', 'cons.price.idx', 'cons.conf.idx',\n",
    "                       'euribor3m', 'nr.employed'], axis=1)"
   ]
  },
  {
   "cell_type": "markdown",
   "metadata": {},
   "source": [
    "## Handling Unknown value"
   ]
  },
  {
   "cell_type": "markdown",
   "metadata": {},
   "source": [
    "Dataframe yg akan kita gunakan selanjutnya adalah `df_1`\n",
    "\n",
    "Beberapa kolom kategori ada yg memiliki value `unknown` sehingga kita akan handle data dg value tersebut"
   ]
  },
  {
   "cell_type": "code",
   "execution_count": 11,
   "metadata": {},
   "outputs": [
    {
     "data": {
      "text/plain": [
       "0.8012042342429834"
      ]
     },
     "execution_count": 11,
     "metadata": {},
     "output_type": "execute_result"
    }
   ],
   "source": [
    "df_1.job.value_counts()['unknown']/len(df_1) * 100"
   ]
  },
  {
   "cell_type": "code",
   "execution_count": 12,
   "metadata": {},
   "outputs": [
    {
     "data": {
      "text/plain": [
       "0.1942313295134505"
      ]
     },
     "execution_count": 12,
     "metadata": {},
     "output_type": "execute_result"
    }
   ],
   "source": [
    "df_1.marital.value_counts()['unknown']/len(df_1) * 100"
   ]
  },
  {
   "cell_type": "code",
   "execution_count": 13,
   "metadata": {},
   "outputs": [
    {
     "data": {
      "text/plain": [
       "4.202680392347285"
      ]
     },
     "execution_count": 13,
     "metadata": {},
     "output_type": "execute_result"
    }
   ],
   "source": [
    "df_1.education.value_counts()['unknown']/len(df_1) * 100"
   ]
  },
  {
   "cell_type": "code",
   "execution_count": 14,
   "metadata": {},
   "outputs": [
    {
     "data": {
      "text/plain": [
       "20.87258424783918"
      ]
     },
     "execution_count": 14,
     "metadata": {},
     "output_type": "execute_result"
    }
   ],
   "source": [
    "df_1.default.value_counts()['unknown']/len(df_1) * 100"
   ]
  },
  {
   "cell_type": "code",
   "execution_count": 15,
   "metadata": {},
   "outputs": [
    {
     "data": {
      "text/plain": [
       "2.40361270272895"
      ]
     },
     "execution_count": 15,
     "metadata": {},
     "output_type": "execute_result"
    }
   ],
   "source": [
    "df_1.housing.value_counts()['unknown']/len(df_1) * 100"
   ]
  },
  {
   "cell_type": "code",
   "execution_count": 16,
   "metadata": {},
   "outputs": [
    {
     "data": {
      "text/plain": [
       "2.40361270272895"
      ]
     },
     "execution_count": 16,
     "metadata": {},
     "output_type": "execute_result"
    }
   ],
   "source": [
    "df_1.loan.value_counts()['unknown']/len(df_1) * 100"
   ]
  },
  {
   "cell_type": "markdown",
   "metadata": {},
   "source": [
    "Untuk data yg memiliki Job, marital, education, housing, loan = `Unknown` akan kita Drop, karena secara persentase masih Kecil"
   ]
  },
  {
   "cell_type": "code",
   "execution_count": 17,
   "metadata": {},
   "outputs": [],
   "source": [
    "df_1 = df_1[(df_1['loan'] != 'unknown') & (df_1['job'] != 'unknown') & (df_1['marital'] != 'unknown') & (df_1['education'] != 'unknown') & (df_1['housing'] != 'unknown')]"
   ]
  },
  {
   "cell_type": "markdown",
   "metadata": {},
   "source": [
    "Untuk Kolom Default, data `unknown` akan kita kategorikan ke dalam `no` karena asumsinya adalah Nasabah tersebut tidak pernah menunggak"
   ]
  },
  {
   "cell_type": "code",
   "execution_count": 18,
   "metadata": {},
   "outputs": [],
   "source": [
    "df_1 = df_1.replace({'unknown' : 'no'})"
   ]
  },
  {
   "cell_type": "code",
   "execution_count": 19,
   "metadata": {},
   "outputs": [
    {
     "data": {
      "text/html": [
       "<div>\n",
       "<style scoped>\n",
       "    .dataframe tbody tr th:only-of-type {\n",
       "        vertical-align: middle;\n",
       "    }\n",
       "\n",
       "    .dataframe tbody tr th {\n",
       "        vertical-align: top;\n",
       "    }\n",
       "\n",
       "    .dataframe thead th {\n",
       "        text-align: right;\n",
       "    }\n",
       "</style>\n",
       "<table border=\"1\" class=\"dataframe\">\n",
       "  <thead>\n",
       "    <tr style=\"text-align: right;\">\n",
       "      <th></th>\n",
       "      <th>dataFeatures</th>\n",
       "      <th>dataType</th>\n",
       "      <th>null</th>\n",
       "      <th>nullPct</th>\n",
       "      <th>unique</th>\n",
       "      <th>uniqueSample</th>\n",
       "    </tr>\n",
       "  </thead>\n",
       "  <tbody>\n",
       "    <tr>\n",
       "      <th>0</th>\n",
       "      <td>age</td>\n",
       "      <td>int64</td>\n",
       "      <td>0</td>\n",
       "      <td>0.0</td>\n",
       "      <td>77</td>\n",
       "      <td>[47, 81]</td>\n",
       "    </tr>\n",
       "    <tr>\n",
       "      <th>1</th>\n",
       "      <td>job</td>\n",
       "      <td>object</td>\n",
       "      <td>0</td>\n",
       "      <td>0.0</td>\n",
       "      <td>11</td>\n",
       "      <td>[admin., entrepreneur]</td>\n",
       "    </tr>\n",
       "    <tr>\n",
       "      <th>2</th>\n",
       "      <td>marital</td>\n",
       "      <td>object</td>\n",
       "      <td>0</td>\n",
       "      <td>0.0</td>\n",
       "      <td>3</td>\n",
       "      <td>[divorced, married]</td>\n",
       "    </tr>\n",
       "    <tr>\n",
       "      <th>3</th>\n",
       "      <td>education</td>\n",
       "      <td>object</td>\n",
       "      <td>0</td>\n",
       "      <td>0.0</td>\n",
       "      <td>7</td>\n",
       "      <td>[illiterate, university.degree]</td>\n",
       "    </tr>\n",
       "    <tr>\n",
       "      <th>4</th>\n",
       "      <td>default</td>\n",
       "      <td>object</td>\n",
       "      <td>0</td>\n",
       "      <td>0.0</td>\n",
       "      <td>2</td>\n",
       "      <td>[no, yes]</td>\n",
       "    </tr>\n",
       "    <tr>\n",
       "      <th>5</th>\n",
       "      <td>housing</td>\n",
       "      <td>object</td>\n",
       "      <td>0</td>\n",
       "      <td>0.0</td>\n",
       "      <td>2</td>\n",
       "      <td>[yes, no]</td>\n",
       "    </tr>\n",
       "    <tr>\n",
       "      <th>6</th>\n",
       "      <td>loan</td>\n",
       "      <td>object</td>\n",
       "      <td>0</td>\n",
       "      <td>0.0</td>\n",
       "      <td>2</td>\n",
       "      <td>[yes, no]</td>\n",
       "    </tr>\n",
       "    <tr>\n",
       "      <th>7</th>\n",
       "      <td>contact</td>\n",
       "      <td>object</td>\n",
       "      <td>0</td>\n",
       "      <td>0.0</td>\n",
       "      <td>2</td>\n",
       "      <td>[telephone, cellular]</td>\n",
       "    </tr>\n",
       "    <tr>\n",
       "      <th>8</th>\n",
       "      <td>campaign</td>\n",
       "      <td>int64</td>\n",
       "      <td>0</td>\n",
       "      <td>0.0</td>\n",
       "      <td>41</td>\n",
       "      <td>[5, 39]</td>\n",
       "    </tr>\n",
       "    <tr>\n",
       "      <th>9</th>\n",
       "      <td>pdays</td>\n",
       "      <td>int64</td>\n",
       "      <td>0</td>\n",
       "      <td>0.0</td>\n",
       "      <td>26</td>\n",
       "      <td>[7, 18]</td>\n",
       "    </tr>\n",
       "    <tr>\n",
       "      <th>10</th>\n",
       "      <td>previous</td>\n",
       "      <td>int64</td>\n",
       "      <td>0</td>\n",
       "      <td>0.0</td>\n",
       "      <td>8</td>\n",
       "      <td>[5, 6]</td>\n",
       "    </tr>\n",
       "    <tr>\n",
       "      <th>11</th>\n",
       "      <td>poutcome</td>\n",
       "      <td>object</td>\n",
       "      <td>0</td>\n",
       "      <td>0.0</td>\n",
       "      <td>3</td>\n",
       "      <td>[failure, success]</td>\n",
       "    </tr>\n",
       "    <tr>\n",
       "      <th>12</th>\n",
       "      <td>y</td>\n",
       "      <td>int64</td>\n",
       "      <td>0</td>\n",
       "      <td>0.0</td>\n",
       "      <td>2</td>\n",
       "      <td>[1, 0]</td>\n",
       "    </tr>\n",
       "  </tbody>\n",
       "</table>\n",
       "</div>"
      ],
      "text/plain": [
       "   dataFeatures dataType  null  nullPct  unique  \\\n",
       "0           age    int64     0      0.0      77   \n",
       "1           job   object     0      0.0      11   \n",
       "2       marital   object     0      0.0       3   \n",
       "3     education   object     0      0.0       7   \n",
       "4       default   object     0      0.0       2   \n",
       "5       housing   object     0      0.0       2   \n",
       "6          loan   object     0      0.0       2   \n",
       "7       contact   object     0      0.0       2   \n",
       "8      campaign    int64     0      0.0      41   \n",
       "9         pdays    int64     0      0.0      26   \n",
       "10     previous    int64     0      0.0       8   \n",
       "11     poutcome   object     0      0.0       3   \n",
       "12            y    int64     0      0.0       2   \n",
       "\n",
       "                       uniqueSample  \n",
       "0                          [47, 81]  \n",
       "1            [admin., entrepreneur]  \n",
       "2               [divorced, married]  \n",
       "3   [illiterate, university.degree]  \n",
       "4                         [no, yes]  \n",
       "5                         [yes, no]  \n",
       "6                         [yes, no]  \n",
       "7             [telephone, cellular]  \n",
       "8                           [5, 39]  \n",
       "9                           [7, 18]  \n",
       "10                           [5, 6]  \n",
       "11               [failure, success]  \n",
       "12                           [1, 0]  "
      ]
     },
     "execution_count": 19,
     "metadata": {},
     "output_type": "execute_result"
    }
   ],
   "source": [
    "listItem = []\n",
    "for col in df_1.columns :\n",
    "    listItem.append([col, df_1[col].dtype, df_1[col].isna().sum(), round((df_1[col].isna().sum()/len(df_1[col])) * 100,2),\n",
    "                    df_1[col].nunique(), list(df_1[col].drop_duplicates().sample(2).values)]);\n",
    "\n",
    "dfDesc = pd.DataFrame(columns=['dataFeatures', 'dataType', 'null', 'nullPct', 'unique', 'uniqueSample'],\n",
    "                     data=listItem)\n",
    "dfDesc"
   ]
  },
  {
   "cell_type": "markdown",
   "metadata": {},
   "source": [
    "## Feature Engineering"
   ]
  },
  {
   "cell_type": "code",
   "execution_count": 20,
   "metadata": {},
   "outputs": [
    {
     "data": {
      "text/plain": [
       "array([999,   6,   4,   3,   5,   1,   0,  10,   7,   9,  11,   2,   8,\n",
       "        12,  13,  14,  15,  16,  21,  17,  18,  22,  25,  26,  19,  27],\n",
       "      dtype=int64)"
      ]
     },
     "execution_count": 20,
     "metadata": {},
     "output_type": "execute_result"
    }
   ],
   "source": [
    "df_1.pdays.unique()"
   ]
  },
  {
   "cell_type": "markdown",
   "metadata": {},
   "source": [
    "Encoding pdays, untuk 999 menjadi 0(No) dan yg lain menjadi 1 (yes)"
   ]
  },
  {
   "cell_type": "code",
   "execution_count": 22,
   "metadata": {},
   "outputs": [],
   "source": [
    "def enc_pdays(x):\n",
    "    if x == 999:\n",
    "        return 0\n",
    "    else:\n",
    "        return 1"
   ]
  },
  {
   "cell_type": "code",
   "execution_count": 23,
   "metadata": {},
   "outputs": [],
   "source": [
    "df_1['pdays'] = df_1['pdays'].apply(enc_pdays)"
   ]
  },
  {
   "cell_type": "code",
   "execution_count": 24,
   "metadata": {},
   "outputs": [
    {
     "data": {
      "text/plain": [
       "array(['basic.4y', 'high.school', 'basic.6y', 'basic.9y',\n",
       "       'professional.course', 'university.degree', 'illiterate'],\n",
       "      dtype=object)"
      ]
     },
     "execution_count": 24,
     "metadata": {},
     "output_type": "execute_result"
    }
   ],
   "source": [
    "df_1.education.unique()"
   ]
  },
  {
   "cell_type": "code",
   "execution_count": 26,
   "metadata": {},
   "outputs": [
    {
     "data": {
      "text/plain": [
       "middle.school          12062\n",
       "university.degree      11821\n",
       "high.school             9244\n",
       "professional.course     5100\n",
       "illiterate                18\n",
       "Name: education, dtype: int64"
      ]
     },
     "execution_count": 26,
     "metadata": {},
     "output_type": "execute_result"
    }
   ],
   "source": [
    "ed =['basic.9y','basic.6y','basic.4y']\n",
    "for i in ed:\n",
    "    df_1.loc[df_1['education'] == i, 'education'] = \"middle.school\"\n",
    "\n",
    "df_1['education'].value_counts()"
   ]
  },
  {
   "cell_type": "markdown",
   "metadata": {},
   "source": [
    "Encoding Default, Housing & Loan: Yes : 1 dan No : 0"
   ]
  },
  {
   "cell_type": "code",
   "execution_count": 28,
   "metadata": {},
   "outputs": [],
   "source": [
    "col = ['default', 'housing', 'loan']\n",
    "for i in col:\n",
    "    df_1[i] = df_1[i].map({'yes' : 1, 'no' : 0})"
   ]
  },
  {
   "cell_type": "code",
   "execution_count": 29,
   "metadata": {},
   "outputs": [
    {
     "data": {
      "text/plain": [
       "array([56, 57, 37, 40, 45, 59, 24, 25, 29, 35, 54, 46, 50, 39, 30, 55, 41,\n",
       "       34, 52, 32, 38, 44, 42, 60, 53, 47, 51, 48, 33, 49, 31, 43, 58, 36,\n",
       "       28, 27, 26, 22, 23, 20, 21, 19, 18, 70, 61, 66, 76, 67, 73, 88, 95,\n",
       "       68, 75, 63, 80, 62, 65, 72, 64, 71, 69, 78, 85, 79, 77, 83, 81, 74,\n",
       "       82, 17, 87, 91, 98, 94, 86, 84, 89], dtype=int64)"
      ]
     },
     "execution_count": 29,
     "metadata": {},
     "output_type": "execute_result"
    }
   ],
   "source": [
    "df_1['age'].unique()"
   ]
  },
  {
   "cell_type": "code",
   "execution_count": 30,
   "metadata": {},
   "outputs": [
    {
     "data": {
      "text/plain": [
       "17"
      ]
     },
     "execution_count": 30,
     "metadata": {},
     "output_type": "execute_result"
    }
   ],
   "source": [
    "df_1['age'].min()"
   ]
  },
  {
   "cell_type": "markdown",
   "metadata": {},
   "source": [
    "Kita akan mengelompokkan Usia ke kelompok tertentu"
   ]
  },
  {
   "cell_type": "code",
   "execution_count": 31,
   "metadata": {},
   "outputs": [],
   "source": [
    "bins = [16, 32, 47, 100]\n",
    "label = ['Young', 'Adult', 'Elder']"
   ]
  },
  {
   "cell_type": "code",
   "execution_count": 32,
   "metadata": {},
   "outputs": [],
   "source": [
    "df_1['age'] = pd.cut(df_1['age'], bins=bins, labels=label)"
   ]
  },
  {
   "cell_type": "code",
   "execution_count": 33,
   "metadata": {},
   "outputs": [
    {
     "data": {
      "text/plain": [
       "Adult    18808\n",
       "Young    10498\n",
       "Elder     8939\n",
       "Name: age, dtype: int64"
      ]
     },
     "execution_count": 33,
     "metadata": {},
     "output_type": "execute_result"
    }
   ],
   "source": [
    "df_1['age'].value_counts()"
   ]
  },
  {
   "cell_type": "markdown",
   "metadata": {},
   "source": [
    "Kita akan melakukan Encoding kelompok usia tersebut"
   ]
  },
  {
   "cell_type": "code",
   "execution_count": 34,
   "metadata": {},
   "outputs": [],
   "source": [
    "df_1['age'] = df_1['age'].map({'Young' : 0, 'Adult' : 1, 'Elder' : 2})"
   ]
  },
  {
   "cell_type": "markdown",
   "metadata": {},
   "source": [
    "Kita akan melakukan Encoding Feature Education"
   ]
  },
  {
   "cell_type": "code",
   "execution_count": 35,
   "metadata": {},
   "outputs": [
    {
     "data": {
      "text/plain": [
       "middle.school          12062\n",
       "university.degree      11821\n",
       "high.school             9244\n",
       "professional.course     5100\n",
       "illiterate                18\n",
       "Name: education, dtype: int64"
      ]
     },
     "execution_count": 35,
     "metadata": {},
     "output_type": "execute_result"
    }
   ],
   "source": [
    "df_1['education'].value_counts()"
   ]
  },
  {
   "cell_type": "code",
   "execution_count": 37,
   "metadata": {},
   "outputs": [],
   "source": [
    "df_1['education'] = df_1['education'].map({\n",
    "    'illiterate' : 0,\n",
    "    'middle.school' : 1,\n",
    "    'high.school' : 2,\n",
    "    'university.degree' : 3,\n",
    "    'professional.course' : 4\n",
    "})"
   ]
  },
  {
   "cell_type": "markdown",
   "metadata": {},
   "source": [
    "Kota juga akan melakukan Binary Encoding untuk Kolom Contact"
   ]
  },
  {
   "cell_type": "code",
   "execution_count": 43,
   "metadata": {},
   "outputs": [],
   "source": [
    "df_1['contact'] = df_1['contact'].map({'telephone' : 0, 'cellular' : 1})"
   ]
  },
  {
   "cell_type": "code",
   "execution_count": 38,
   "metadata": {},
   "outputs": [
    {
     "data": {
      "text/html": [
       "<div>\n",
       "<style scoped>\n",
       "    .dataframe tbody tr th:only-of-type {\n",
       "        vertical-align: middle;\n",
       "    }\n",
       "\n",
       "    .dataframe tbody tr th {\n",
       "        vertical-align: top;\n",
       "    }\n",
       "\n",
       "    .dataframe thead th {\n",
       "        text-align: right;\n",
       "    }\n",
       "</style>\n",
       "<table border=\"1\" class=\"dataframe\">\n",
       "  <thead>\n",
       "    <tr style=\"text-align: right;\">\n",
       "      <th></th>\n",
       "      <th>dataFeatures</th>\n",
       "      <th>dataType</th>\n",
       "      <th>null</th>\n",
       "      <th>nullPct</th>\n",
       "      <th>unique</th>\n",
       "      <th>uniqueSample</th>\n",
       "    </tr>\n",
       "  </thead>\n",
       "  <tbody>\n",
       "    <tr>\n",
       "      <th>0</th>\n",
       "      <td>age</td>\n",
       "      <td>category</td>\n",
       "      <td>0</td>\n",
       "      <td>0.0</td>\n",
       "      <td>3</td>\n",
       "      <td>[2, 1]</td>\n",
       "    </tr>\n",
       "    <tr>\n",
       "      <th>1</th>\n",
       "      <td>job</td>\n",
       "      <td>object</td>\n",
       "      <td>0</td>\n",
       "      <td>0.0</td>\n",
       "      <td>11</td>\n",
       "      <td>[services, housemaid]</td>\n",
       "    </tr>\n",
       "    <tr>\n",
       "      <th>2</th>\n",
       "      <td>marital</td>\n",
       "      <td>object</td>\n",
       "      <td>0</td>\n",
       "      <td>0.0</td>\n",
       "      <td>3</td>\n",
       "      <td>[divorced, single]</td>\n",
       "    </tr>\n",
       "    <tr>\n",
       "      <th>3</th>\n",
       "      <td>education</td>\n",
       "      <td>int64</td>\n",
       "      <td>0</td>\n",
       "      <td>0.0</td>\n",
       "      <td>5</td>\n",
       "      <td>[3, 4]</td>\n",
       "    </tr>\n",
       "    <tr>\n",
       "      <th>4</th>\n",
       "      <td>default</td>\n",
       "      <td>int64</td>\n",
       "      <td>0</td>\n",
       "      <td>0.0</td>\n",
       "      <td>2</td>\n",
       "      <td>[1, 0]</td>\n",
       "    </tr>\n",
       "    <tr>\n",
       "      <th>5</th>\n",
       "      <td>housing</td>\n",
       "      <td>int64</td>\n",
       "      <td>0</td>\n",
       "      <td>0.0</td>\n",
       "      <td>2</td>\n",
       "      <td>[0, 1]</td>\n",
       "    </tr>\n",
       "    <tr>\n",
       "      <th>6</th>\n",
       "      <td>loan</td>\n",
       "      <td>int64</td>\n",
       "      <td>0</td>\n",
       "      <td>0.0</td>\n",
       "      <td>2</td>\n",
       "      <td>[1, 0]</td>\n",
       "    </tr>\n",
       "    <tr>\n",
       "      <th>7</th>\n",
       "      <td>contact</td>\n",
       "      <td>object</td>\n",
       "      <td>0</td>\n",
       "      <td>0.0</td>\n",
       "      <td>2</td>\n",
       "      <td>[telephone, cellular]</td>\n",
       "    </tr>\n",
       "    <tr>\n",
       "      <th>8</th>\n",
       "      <td>campaign</td>\n",
       "      <td>int64</td>\n",
       "      <td>0</td>\n",
       "      <td>0.0</td>\n",
       "      <td>41</td>\n",
       "      <td>[27, 21]</td>\n",
       "    </tr>\n",
       "    <tr>\n",
       "      <th>9</th>\n",
       "      <td>pdays</td>\n",
       "      <td>int64</td>\n",
       "      <td>0</td>\n",
       "      <td>0.0</td>\n",
       "      <td>2</td>\n",
       "      <td>[0, 1]</td>\n",
       "    </tr>\n",
       "    <tr>\n",
       "      <th>10</th>\n",
       "      <td>previous</td>\n",
       "      <td>int64</td>\n",
       "      <td>0</td>\n",
       "      <td>0.0</td>\n",
       "      <td>8</td>\n",
       "      <td>[4, 6]</td>\n",
       "    </tr>\n",
       "    <tr>\n",
       "      <th>11</th>\n",
       "      <td>poutcome</td>\n",
       "      <td>object</td>\n",
       "      <td>0</td>\n",
       "      <td>0.0</td>\n",
       "      <td>3</td>\n",
       "      <td>[nonexistent, success]</td>\n",
       "    </tr>\n",
       "    <tr>\n",
       "      <th>12</th>\n",
       "      <td>y</td>\n",
       "      <td>int64</td>\n",
       "      <td>0</td>\n",
       "      <td>0.0</td>\n",
       "      <td>2</td>\n",
       "      <td>[0, 1]</td>\n",
       "    </tr>\n",
       "  </tbody>\n",
       "</table>\n",
       "</div>"
      ],
      "text/plain": [
       "   dataFeatures  dataType  null  nullPct  unique            uniqueSample\n",
       "0           age  category     0      0.0       3                  [2, 1]\n",
       "1           job    object     0      0.0      11   [services, housemaid]\n",
       "2       marital    object     0      0.0       3      [divorced, single]\n",
       "3     education     int64     0      0.0       5                  [3, 4]\n",
       "4       default     int64     0      0.0       2                  [1, 0]\n",
       "5       housing     int64     0      0.0       2                  [0, 1]\n",
       "6          loan     int64     0      0.0       2                  [1, 0]\n",
       "7       contact    object     0      0.0       2   [telephone, cellular]\n",
       "8      campaign     int64     0      0.0      41                [27, 21]\n",
       "9         pdays     int64     0      0.0       2                  [0, 1]\n",
       "10     previous     int64     0      0.0       8                  [4, 6]\n",
       "11     poutcome    object     0      0.0       3  [nonexistent, success]\n",
       "12            y     int64     0      0.0       2                  [0, 1]"
      ]
     },
     "execution_count": 38,
     "metadata": {},
     "output_type": "execute_result"
    }
   ],
   "source": [
    "listItem = []\n",
    "for col in df_1.columns :\n",
    "    listItem.append([col, df_1[col].dtype, df_1[col].isna().sum(), round((df_1[col].isna().sum()/len(df_1[col])) * 100,2),\n",
    "                    df_1[col].nunique(), list(df_1[col].drop_duplicates().sample(2).values)]);\n",
    "\n",
    "dfDesc = pd.DataFrame(columns=['dataFeatures', 'dataType', 'null', 'nullPct', 'unique', 'uniqueSample'],\n",
    "                     data=listItem)\n",
    "dfDesc"
   ]
  },
  {
   "cell_type": "markdown",
   "metadata": {},
   "source": [
    "Kita akan melakukan One Hot Encoding untuk kolom Job, Marital dan Poutcome"
   ]
  },
  {
   "cell_type": "code",
   "execution_count": 44,
   "metadata": {},
   "outputs": [],
   "source": [
    "df_1 = pd.get_dummies(df_1, columns=['job', 'marital', 'poutcome'], drop_first=True)"
   ]
  },
  {
   "cell_type": "code",
   "execution_count": 45,
   "metadata": {},
   "outputs": [
    {
     "data": {
      "text/html": [
       "<div>\n",
       "<style scoped>\n",
       "    .dataframe tbody tr th:only-of-type {\n",
       "        vertical-align: middle;\n",
       "    }\n",
       "\n",
       "    .dataframe tbody tr th {\n",
       "        vertical-align: top;\n",
       "    }\n",
       "\n",
       "    .dataframe thead th {\n",
       "        text-align: right;\n",
       "    }\n",
       "</style>\n",
       "<table border=\"1\" class=\"dataframe\">\n",
       "  <thead>\n",
       "    <tr style=\"text-align: right;\">\n",
       "      <th></th>\n",
       "      <th>age</th>\n",
       "      <th>education</th>\n",
       "      <th>default</th>\n",
       "      <th>housing</th>\n",
       "      <th>loan</th>\n",
       "      <th>contact</th>\n",
       "      <th>campaign</th>\n",
       "      <th>pdays</th>\n",
       "      <th>previous</th>\n",
       "      <th>y</th>\n",
       "      <th>...</th>\n",
       "      <th>job_retired</th>\n",
       "      <th>job_self-employed</th>\n",
       "      <th>job_services</th>\n",
       "      <th>job_student</th>\n",
       "      <th>job_technician</th>\n",
       "      <th>job_unemployed</th>\n",
       "      <th>marital_married</th>\n",
       "      <th>marital_single</th>\n",
       "      <th>poutcome_nonexistent</th>\n",
       "      <th>poutcome_success</th>\n",
       "    </tr>\n",
       "  </thead>\n",
       "  <tbody>\n",
       "    <tr>\n",
       "      <th>0</th>\n",
       "      <td>2</td>\n",
       "      <td>1</td>\n",
       "      <td>0</td>\n",
       "      <td>0</td>\n",
       "      <td>0</td>\n",
       "      <td>0</td>\n",
       "      <td>1</td>\n",
       "      <td>0</td>\n",
       "      <td>0</td>\n",
       "      <td>0</td>\n",
       "      <td>...</td>\n",
       "      <td>0</td>\n",
       "      <td>0</td>\n",
       "      <td>0</td>\n",
       "      <td>0</td>\n",
       "      <td>0</td>\n",
       "      <td>0</td>\n",
       "      <td>1</td>\n",
       "      <td>0</td>\n",
       "      <td>1</td>\n",
       "      <td>0</td>\n",
       "    </tr>\n",
       "    <tr>\n",
       "      <th>1</th>\n",
       "      <td>2</td>\n",
       "      <td>2</td>\n",
       "      <td>0</td>\n",
       "      <td>0</td>\n",
       "      <td>0</td>\n",
       "      <td>0</td>\n",
       "      <td>1</td>\n",
       "      <td>0</td>\n",
       "      <td>0</td>\n",
       "      <td>0</td>\n",
       "      <td>...</td>\n",
       "      <td>0</td>\n",
       "      <td>0</td>\n",
       "      <td>1</td>\n",
       "      <td>0</td>\n",
       "      <td>0</td>\n",
       "      <td>0</td>\n",
       "      <td>1</td>\n",
       "      <td>0</td>\n",
       "      <td>1</td>\n",
       "      <td>0</td>\n",
       "    </tr>\n",
       "    <tr>\n",
       "      <th>2</th>\n",
       "      <td>1</td>\n",
       "      <td>2</td>\n",
       "      <td>0</td>\n",
       "      <td>1</td>\n",
       "      <td>0</td>\n",
       "      <td>0</td>\n",
       "      <td>1</td>\n",
       "      <td>0</td>\n",
       "      <td>0</td>\n",
       "      <td>0</td>\n",
       "      <td>...</td>\n",
       "      <td>0</td>\n",
       "      <td>0</td>\n",
       "      <td>1</td>\n",
       "      <td>0</td>\n",
       "      <td>0</td>\n",
       "      <td>0</td>\n",
       "      <td>1</td>\n",
       "      <td>0</td>\n",
       "      <td>1</td>\n",
       "      <td>0</td>\n",
       "    </tr>\n",
       "    <tr>\n",
       "      <th>3</th>\n",
       "      <td>1</td>\n",
       "      <td>1</td>\n",
       "      <td>0</td>\n",
       "      <td>0</td>\n",
       "      <td>0</td>\n",
       "      <td>0</td>\n",
       "      <td>1</td>\n",
       "      <td>0</td>\n",
       "      <td>0</td>\n",
       "      <td>0</td>\n",
       "      <td>...</td>\n",
       "      <td>0</td>\n",
       "      <td>0</td>\n",
       "      <td>0</td>\n",
       "      <td>0</td>\n",
       "      <td>0</td>\n",
       "      <td>0</td>\n",
       "      <td>1</td>\n",
       "      <td>0</td>\n",
       "      <td>1</td>\n",
       "      <td>0</td>\n",
       "    </tr>\n",
       "    <tr>\n",
       "      <th>4</th>\n",
       "      <td>2</td>\n",
       "      <td>2</td>\n",
       "      <td>0</td>\n",
       "      <td>0</td>\n",
       "      <td>1</td>\n",
       "      <td>0</td>\n",
       "      <td>1</td>\n",
       "      <td>0</td>\n",
       "      <td>0</td>\n",
       "      <td>0</td>\n",
       "      <td>...</td>\n",
       "      <td>0</td>\n",
       "      <td>0</td>\n",
       "      <td>1</td>\n",
       "      <td>0</td>\n",
       "      <td>0</td>\n",
       "      <td>0</td>\n",
       "      <td>1</td>\n",
       "      <td>0</td>\n",
       "      <td>1</td>\n",
       "      <td>0</td>\n",
       "    </tr>\n",
       "  </tbody>\n",
       "</table>\n",
       "<p>5 rows × 24 columns</p>\n",
       "</div>"
      ],
      "text/plain": [
       "  age  education  default  housing  loan  contact  campaign  pdays  previous  \\\n",
       "0   2          1        0        0     0        0         1      0         0   \n",
       "1   2          2        0        0     0        0         1      0         0   \n",
       "2   1          2        0        1     0        0         1      0         0   \n",
       "3   1          1        0        0     0        0         1      0         0   \n",
       "4   2          2        0        0     1        0         1      0         0   \n",
       "\n",
       "   y  ...  job_retired  job_self-employed  job_services  job_student  \\\n",
       "0  0  ...            0                  0             0            0   \n",
       "1  0  ...            0                  0             1            0   \n",
       "2  0  ...            0                  0             1            0   \n",
       "3  0  ...            0                  0             0            0   \n",
       "4  0  ...            0                  0             1            0   \n",
       "\n",
       "   job_technician  job_unemployed  marital_married  marital_single  \\\n",
       "0               0               0                1               0   \n",
       "1               0               0                1               0   \n",
       "2               0               0                1               0   \n",
       "3               0               0                1               0   \n",
       "4               0               0                1               0   \n",
       "\n",
       "   poutcome_nonexistent  poutcome_success  \n",
       "0                     1                 0  \n",
       "1                     1                 0  \n",
       "2                     1                 0  \n",
       "3                     1                 0  \n",
       "4                     1                 0  \n",
       "\n",
       "[5 rows x 24 columns]"
      ]
     },
     "execution_count": 45,
     "metadata": {},
     "output_type": "execute_result"
    }
   ],
   "source": [
    "df_1.head()"
   ]
  },
  {
   "cell_type": "markdown",
   "metadata": {},
   "source": [
    "# Machine Learning Modelling"
   ]
  },
  {
   "cell_type": "markdown",
   "metadata": {},
   "source": [
    "## Dataset Splitting"
   ]
  },
  {
   "cell_type": "code",
   "execution_count": 46,
   "metadata": {},
   "outputs": [],
   "source": [
    "X = df_1.drop(columns='y')\n",
    "y = df_1.y"
   ]
  },
  {
   "cell_type": "code",
   "execution_count": 102,
   "metadata": {},
   "outputs": [
    {
     "name": "stdout",
     "output_type": "stream",
     "text": [
      "(30596, 23) (7649, 23)\n"
     ]
    }
   ],
   "source": [
    "X_train,X_test,y_train,y_test=train_test_split(X,y,stratify=y,test_size=0.2,random_state=42)\n",
    "print(X_train.shape, X_test.shape)"
   ]
  },
  {
   "cell_type": "markdown",
   "metadata": {},
   "source": [
    "## Modelling & Evaluation"
   ]
  },
  {
   "cell_type": "code",
   "execution_count": 52,
   "metadata": {},
   "outputs": [],
   "source": [
    "logreg = LogisticRegression()\n",
    "knn = KNeighborsClassifier()\n",
    "dt = DecisionTreeClassifier()\n",
    "rf = RandomForestClassifier()\n",
    "xt = ExtraTreesClassifier()"
   ]
  },
  {
   "cell_type": "code",
   "execution_count": 54,
   "metadata": {},
   "outputs": [
    {
     "data": {
      "text/html": [
       "<div>\n",
       "<style scoped>\n",
       "    .dataframe tbody tr th:only-of-type {\n",
       "        vertical-align: middle;\n",
       "    }\n",
       "\n",
       "    .dataframe tbody tr th {\n",
       "        vertical-align: top;\n",
       "    }\n",
       "\n",
       "    .dataframe thead th {\n",
       "        text-align: right;\n",
       "    }\n",
       "</style>\n",
       "<table border=\"1\" class=\"dataframe\">\n",
       "  <thead>\n",
       "    <tr style=\"text-align: right;\">\n",
       "      <th></th>\n",
       "      <th>model</th>\n",
       "      <th>mean roc_auc</th>\n",
       "      <th>sdev</th>\n",
       "    </tr>\n",
       "  </thead>\n",
       "  <tbody>\n",
       "    <tr>\n",
       "      <th>0</th>\n",
       "      <td>Logistic Regression</td>\n",
       "      <td>0.717443</td>\n",
       "      <td>0.002793</td>\n",
       "    </tr>\n",
       "    <tr>\n",
       "      <th>1</th>\n",
       "      <td>KNN</td>\n",
       "      <td>0.626607</td>\n",
       "      <td>0.002942</td>\n",
       "    </tr>\n",
       "    <tr>\n",
       "      <th>2</th>\n",
       "      <td>DT</td>\n",
       "      <td>0.597960</td>\n",
       "      <td>0.010416</td>\n",
       "    </tr>\n",
       "    <tr>\n",
       "      <th>3</th>\n",
       "      <td>RF</td>\n",
       "      <td>0.647804</td>\n",
       "      <td>0.003738</td>\n",
       "    </tr>\n",
       "    <tr>\n",
       "      <th>4</th>\n",
       "      <td>XT</td>\n",
       "      <td>0.628896</td>\n",
       "      <td>0.006540</td>\n",
       "    </tr>\n",
       "  </tbody>\n",
       "</table>\n",
       "</div>"
      ],
      "text/plain": [
       "                 model  mean roc_auc      sdev\n",
       "0  Logistic Regression      0.717443  0.002793\n",
       "1                  KNN      0.626607  0.002942\n",
       "2                   DT      0.597960  0.010416\n",
       "3                   RF      0.647804  0.003738\n",
       "4                   XT      0.628896  0.006540"
      ]
     },
     "execution_count": 54,
     "metadata": {},
     "output_type": "execute_result"
    }
   ],
   "source": [
    "models = [logreg,knn,dt, rf, xt]\n",
    "score=[]\n",
    "rata=[]\n",
    "std=[]\n",
    "\n",
    "for i in models:\n",
    "    skfold=StratifiedKFold(n_splits=4)\n",
    "    estimator=Pipeline([\n",
    "        ('model',i)])\n",
    "    model_cv=cross_val_score(estimator,X_train,y_train,cv=skfold,scoring='roc_auc')\n",
    "    score.append(model_cv)\n",
    "    rata.append(model_cv.mean())\n",
    "    std.append(model_cv.std())\n",
    "    \n",
    "pd.DataFrame({'model':['Logistic Regression', 'KNN', 'DT', 'RF', 'XT'],'mean roc_auc':rata,'sdev':std})"
   ]
  },
  {
   "cell_type": "markdown",
   "metadata": {},
   "source": [
    "Terlihat bahwa model Logistic Regression adalah yang terbaik untuk roc_aucnya dari setiap model yang menggunakan default hyperparameter"
   ]
  },
  {
   "cell_type": "markdown",
   "metadata": {},
   "source": [
    "## Model BenchMarking Test Data"
   ]
  },
  {
   "cell_type": "code",
   "execution_count": 55,
   "metadata": {},
   "outputs": [
    {
     "name": "stdout",
     "output_type": "stream",
     "text": [
      "Logistic Regression \n",
      "               precision    recall  f1-score   support\n",
      "\n",
      "           0       0.91      0.99      0.95      6797\n",
      "           1       0.67      0.19      0.30       852\n",
      "\n",
      "    accuracy                           0.90      7649\n",
      "   macro avg       0.79      0.59      0.62      7649\n",
      "weighted avg       0.88      0.90      0.87      7649\n",
      "\n",
      "KNN \n",
      "               precision    recall  f1-score   support\n",
      "\n",
      "           0       0.90      0.98      0.94      6797\n",
      "           1       0.50      0.18      0.27       852\n",
      "\n",
      "    accuracy                           0.89      7649\n",
      "   macro avg       0.70      0.58      0.60      7649\n",
      "weighted avg       0.86      0.89      0.86      7649\n",
      "\n",
      "Decision Tree \n",
      "               precision    recall  f1-score   support\n",
      "\n",
      "           0       0.90      0.97      0.93      6797\n",
      "           1       0.39      0.15      0.22       852\n",
      "\n",
      "    accuracy                           0.88      7649\n",
      "   macro avg       0.65      0.56      0.58      7649\n",
      "weighted avg       0.84      0.88      0.85      7649\n",
      "\n",
      "Random Forest \n",
      "               precision    recall  f1-score   support\n",
      "\n",
      "           0       0.90      0.98      0.94      6797\n",
      "           1       0.48      0.18      0.26       852\n",
      "\n",
      "    accuracy                           0.89      7649\n",
      "   macro avg       0.69      0.58      0.60      7649\n",
      "weighted avg       0.86      0.89      0.86      7649\n",
      "\n",
      "Xtra Tree \n",
      "               precision    recall  f1-score   support\n",
      "\n",
      "           0       0.90      0.98      0.94      6797\n",
      "           1       0.45      0.16      0.24       852\n",
      "\n",
      "    accuracy                           0.88      7649\n",
      "   macro avg       0.68      0.57      0.59      7649\n",
      "weighted avg       0.85      0.88      0.86      7649\n",
      "\n"
     ]
    },
    {
     "data": {
      "text/html": [
       "<div>\n",
       "<style scoped>\n",
       "    .dataframe tbody tr th:only-of-type {\n",
       "        vertical-align: middle;\n",
       "    }\n",
       "\n",
       "    .dataframe tbody tr th {\n",
       "        vertical-align: top;\n",
       "    }\n",
       "\n",
       "    .dataframe thead th {\n",
       "        text-align: right;\n",
       "    }\n",
       "</style>\n",
       "<table border=\"1\" class=\"dataframe\">\n",
       "  <thead>\n",
       "    <tr style=\"text-align: right;\">\n",
       "      <th></th>\n",
       "      <th>roc_auc score</th>\n",
       "    </tr>\n",
       "    <tr>\n",
       "      <th>model</th>\n",
       "      <th></th>\n",
       "    </tr>\n",
       "  </thead>\n",
       "  <tbody>\n",
       "    <tr>\n",
       "      <th>Logistic Regression</th>\n",
       "      <td>0.721097</td>\n",
       "    </tr>\n",
       "    <tr>\n",
       "      <th>Random Forest</th>\n",
       "      <td>0.648625</td>\n",
       "    </tr>\n",
       "    <tr>\n",
       "      <th>Xtra Tree</th>\n",
       "      <td>0.627156</td>\n",
       "    </tr>\n",
       "    <tr>\n",
       "      <th>KNN</th>\n",
       "      <td>0.626359</td>\n",
       "    </tr>\n",
       "    <tr>\n",
       "      <th>Decision Tree</th>\n",
       "      <td>0.603944</td>\n",
       "    </tr>\n",
       "  </tbody>\n",
       "</table>\n",
       "</div>"
      ],
      "text/plain": [
       "                     roc_auc score\n",
       "model                             \n",
       "Logistic Regression       0.721097\n",
       "Random Forest             0.648625\n",
       "Xtra Tree                 0.627156\n",
       "KNN                       0.626359\n",
       "Decision Tree             0.603944"
      ]
     },
     "execution_count": 55,
     "metadata": {},
     "output_type": "execute_result"
    }
   ],
   "source": [
    "models = [logreg,knn,dt,rf, xt]\n",
    "score_roc_auc = []\n",
    "\n",
    "def y_pred_func(i):\n",
    "    estimator=Pipeline([\n",
    "        ('model',i)])\n",
    "    X_train,X_test\n",
    "    \n",
    "    estimator.fit(X_train,y_train)\n",
    "    return(estimator,estimator.predict(X_test),X_test)\n",
    "\n",
    "for i,j in zip(models, ['Logistic Regression', 'KNN', 'Decision Tree', 'Random Forest', 'Xtra Tree']):\n",
    "    estimator,y_pred,X_test = y_pred_func(i)\n",
    "    y_predict_proba = estimator.predict_proba(X_test)[:,1]\n",
    "    score_roc_auc.append(roc_auc_score(y_test,y_predict_proba))\n",
    "    print(j,'\\n', classification_report(y_test,y_pred))\n",
    "    \n",
    "pd.DataFrame({'model':['Logistic Regression', 'KNN', 'Decision Tree', 'Random Forest', 'Xtra Tree'],\n",
    "             'roc_auc score':score_roc_auc}).set_index('model').sort_values(by='roc_auc score',ascending=False)"
   ]
  },
  {
   "cell_type": "markdown",
   "metadata": {},
   "source": [
    "Terlihat kembali lagi model Logistic Regression adalah yang terbaik performanya pada test data.\n",
    "\n",
    "Mari sekarang kita coba melakukan Hyper Parameter Tuning untuk model LogReg kita untuk melihat apakah kita dapat mendapatkan hasil yang lebih baik lagi."
   ]
  },
  {
   "cell_type": "markdown",
   "metadata": {},
   "source": [
    "## Test Oversampling with K-Fold Cross Validation"
   ]
  },
  {
   "cell_type": "code",
   "execution_count": 56,
   "metadata": {},
   "outputs": [],
   "source": [
    "def calc_train_error(X_train, y_train, model):\n",
    "#     '''returns in-sample error for already fit model.'''\n",
    "    predictions = model.predict(X_train)\n",
    "    predictProba = model.predict_proba(X_train)\n",
    "    accuracy = accuracy_score(y_train, predictions)\n",
    "    f1 = f1_score(y_train, predictions, average='macro')\n",
    "    roc_auc = roc_auc_score(y_train, predictProba[:,1])\n",
    "    recall = recall_score(y_train, predictions)\n",
    "    precision = precision_score(y_train, predictions)\n",
    "    report = classification_report(y_train, predictions)\n",
    "    return { \n",
    "        'report': report, \n",
    "        'f1' : f1, \n",
    "        'roc': roc_auc, \n",
    "        'accuracy': accuracy,\n",
    "        'recall': recall,\n",
    "        'precision': precision\n",
    "    }\n",
    "    \n",
    "def calc_validation_error(X_test, y_test, model):\n",
    "#     '''returns out-of-sample error for already fit model.'''\n",
    "    predictions = model.predict(X_test)\n",
    "    predictProba = model.predict_proba(X_test)\n",
    "    accuracy = accuracy_score(y_test, predictions)\n",
    "    f1 = f1_score(y_test, predictions, average='macro')\n",
    "    roc_auc = roc_auc_score(y_test, predictProba[:,1])\n",
    "    recall = recall_score(y_test, predictions)\n",
    "    precision = precision_score(y_test, predictions)\n",
    "    report = classification_report(y_test, predictions)\n",
    "    return { \n",
    "        'report': report, \n",
    "        'f1' : f1, \n",
    "        'roc': roc_auc, \n",
    "        'accuracy': accuracy,\n",
    "        'recall': recall,\n",
    "        'precision': precision\n",
    "    }\n",
    "    \n",
    "def calc_metrics(X_train, y_train, X_test, y_test, model):\n",
    "#     '''fits model and returns the in-sample error and out-of-sample error'''\n",
    "    model.fit(X_train, y_train)\n",
    "    train_error = calc_train_error(X_train, y_train, model)\n",
    "    validation_error = calc_validation_error(X_test, y_test, model)\n",
    "    return train_error, validation_error"
   ]
  },
  {
   "cell_type": "code",
   "execution_count": 57,
   "metadata": {},
   "outputs": [],
   "source": [
    "from sklearn.model_selection import StratifiedKFold\n",
    "K = 5\n",
    "kf = StratifiedKFold(n_splits=K, shuffle=True, random_state=42)"
   ]
  },
  {
   "cell_type": "code",
   "execution_count": 58,
   "metadata": {},
   "outputs": [],
   "source": [
    "data = X_train\n",
    "target = y_train"
   ]
  },
  {
   "cell_type": "code",
   "execution_count": 97,
   "metadata": {},
   "outputs": [],
   "source": [
    "train_errors_without_oversampling = []\n",
    "validation_errors_without_oversampling = []\n",
    "\n",
    "train_errors_with_oversampling = []\n",
    "validation_errors_with_oversampling = []\n",
    "\n",
    "for train_index, val_index in kf.split(data, target):\n",
    "    \n",
    "    # split data\n",
    "    X_train, X_val = data.iloc[train_index], data.iloc[val_index]\n",
    "    Y_train, Y_val = target.iloc[train_index], target.iloc[val_index]\n",
    "    \n",
    "#     print(len(X_val), (len(X_train) + len(X_val)))\n",
    "    ros = RandomOverSampler()\n",
    "\n",
    "    X_ros, Y_ros = ros.fit_resample(X_train, Y_train)\n",
    "\n",
    "    # instantiate model\n",
    "    lr = LogisticRegression()\n",
    "    estimator=Pipeline([\n",
    "        \n",
    "        ('model',lr)\n",
    "    ])\n",
    "    train_error_without_oversampling, val_error_without_oversampling = calc_metrics(X_train, Y_train, X_val, Y_val, estimator)\n",
    "    train_error_with_oversampling, val_error_with_oversampling = calc_metrics(X_ros, Y_ros, X_val, Y_val, estimator)\n",
    "    train_errors_without_oversampling.append(train_error_without_oversampling)\n",
    "    validation_errors_without_oversampling.append(val_error_without_oversampling)\n",
    "    train_errors_with_oversampling.append(train_error_with_oversampling)\n",
    "    validation_errors_with_oversampling.append(val_error_with_oversampling)"
   ]
  },
  {
   "cell_type": "markdown",
   "metadata": {},
   "source": [
    "## Evaluation Metrics Without Oversampling"
   ]
  },
  {
   "cell_type": "code",
   "execution_count": 95,
   "metadata": {},
   "outputs": [
    {
     "data": {
      "text/html": [
       "<div>\n",
       "<style scoped>\n",
       "    .dataframe tbody tr th:only-of-type {\n",
       "        vertical-align: middle;\n",
       "    }\n",
       "\n",
       "    .dataframe tbody tr th {\n",
       "        vertical-align: top;\n",
       "    }\n",
       "\n",
       "    .dataframe thead th {\n",
       "        text-align: right;\n",
       "    }\n",
       "</style>\n",
       "<table border=\"1\" class=\"dataframe\">\n",
       "  <thead>\n",
       "    <tr style=\"text-align: right;\">\n",
       "      <th></th>\n",
       "      <th>Train Accuracy</th>\n",
       "      <th>Test Accuracy</th>\n",
       "      <th>Train ROC AUC</th>\n",
       "      <th>Test ROC AUC</th>\n",
       "      <th>Train F1 Score</th>\n",
       "      <th>Test F1 Score</th>\n",
       "      <th>Train Recall</th>\n",
       "      <th>Test Recall</th>\n",
       "      <th>Train Precision</th>\n",
       "      <th>Test Precision</th>\n",
       "    </tr>\n",
       "  </thead>\n",
       "  <tbody>\n",
       "    <tr>\n",
       "      <th>0</th>\n",
       "      <td>0.897205</td>\n",
       "      <td>0.897059</td>\n",
       "      <td>0.714830</td>\n",
       "      <td>0.737708</td>\n",
       "      <td>0.611047</td>\n",
       "      <td>0.612692</td>\n",
       "      <td>0.177313</td>\n",
       "      <td>0.180352</td>\n",
       "      <td>0.637203</td>\n",
       "      <td>0.634021</td>\n",
       "    </tr>\n",
       "    <tr>\n",
       "      <th>1</th>\n",
       "      <td>0.896556</td>\n",
       "      <td>0.901128</td>\n",
       "      <td>0.717887</td>\n",
       "      <td>0.726196</td>\n",
       "      <td>0.605010</td>\n",
       "      <td>0.630005</td>\n",
       "      <td>0.168073</td>\n",
       "      <td>0.202643</td>\n",
       "      <td>0.633472</td>\n",
       "      <td>0.690000</td>\n",
       "    </tr>\n",
       "    <tr>\n",
       "      <th>2</th>\n",
       "      <td>0.897945</td>\n",
       "      <td>0.894917</td>\n",
       "      <td>0.721062</td>\n",
       "      <td>0.712576</td>\n",
       "      <td>0.615462</td>\n",
       "      <td>0.600907</td>\n",
       "      <td>0.183486</td>\n",
       "      <td>0.164464</td>\n",
       "      <td>0.646831</td>\n",
       "      <td>0.602151</td>\n",
       "    </tr>\n",
       "    <tr>\n",
       "      <th>3</th>\n",
       "      <td>0.898027</td>\n",
       "      <td>0.894591</td>\n",
       "      <td>0.724972</td>\n",
       "      <td>0.695444</td>\n",
       "      <td>0.615160</td>\n",
       "      <td>0.602208</td>\n",
       "      <td>0.182752</td>\n",
       "      <td>0.167401</td>\n",
       "      <td>0.649283</td>\n",
       "      <td>0.593750</td>\n",
       "    </tr>\n",
       "    <tr>\n",
       "      <th>4</th>\n",
       "      <td>0.897128</td>\n",
       "      <td>0.898840</td>\n",
       "      <td>0.721259</td>\n",
       "      <td>0.712181</td>\n",
       "      <td>0.613403</td>\n",
       "      <td>0.613330</td>\n",
       "      <td>0.181651</td>\n",
       "      <td>0.177680</td>\n",
       "      <td>0.632184</td>\n",
       "      <td>0.672222</td>\n",
       "    </tr>\n",
       "    <tr>\n",
       "      <th>Average</th>\n",
       "      <td>0.897372</td>\n",
       "      <td>0.897307</td>\n",
       "      <td>0.720002</td>\n",
       "      <td>0.716821</td>\n",
       "      <td>0.612016</td>\n",
       "      <td>0.611828</td>\n",
       "      <td>0.178655</td>\n",
       "      <td>0.178508</td>\n",
       "      <td>0.639794</td>\n",
       "      <td>0.638429</td>\n",
       "    </tr>\n",
       "  </tbody>\n",
       "</table>\n",
       "</div>"
      ],
      "text/plain": [
       "         Train Accuracy  Test Accuracy  Train ROC AUC  Test ROC AUC  \\\n",
       "0              0.897205       0.897059       0.714830      0.737708   \n",
       "1              0.896556       0.901128       0.717887      0.726196   \n",
       "2              0.897945       0.894917       0.721062      0.712576   \n",
       "3              0.898027       0.894591       0.724972      0.695444   \n",
       "4              0.897128       0.898840       0.721259      0.712181   \n",
       "Average        0.897372       0.897307       0.720002      0.716821   \n",
       "\n",
       "         Train F1 Score  Test F1 Score  Train Recall  Test Recall  \\\n",
       "0              0.611047       0.612692      0.177313     0.180352   \n",
       "1              0.605010       0.630005      0.168073     0.202643   \n",
       "2              0.615462       0.600907      0.183486     0.164464   \n",
       "3              0.615160       0.602208      0.182752     0.167401   \n",
       "4              0.613403       0.613330      0.181651     0.177680   \n",
       "Average        0.612016       0.611828      0.178655     0.178508   \n",
       "\n",
       "         Train Precision  Test Precision  \n",
       "0               0.637203        0.634021  \n",
       "1               0.633472        0.690000  \n",
       "2               0.646831        0.602151  \n",
       "3               0.649283        0.593750  \n",
       "4               0.632184        0.672222  \n",
       "Average         0.639794        0.638429  "
      ]
     },
     "execution_count": 95,
     "metadata": {},
     "output_type": "execute_result"
    }
   ],
   "source": [
    "listItem = []\n",
    "\n",
    "for tr,val in zip(train_errors_without_oversampling,validation_errors_without_oversampling) :\n",
    "    listItem.append([tr['accuracy'],val['accuracy'],tr['roc'],val['roc'],tr['f1'],val['f1'],\n",
    "                     tr['recall'],val['recall'],tr['precision'],val['precision']])\n",
    "\n",
    "listItem.append(list(np.mean(listItem,axis=0)))\n",
    "    \n",
    "dfEvaluate = pd.DataFrame(listItem, \n",
    "                    columns=['Train Accuracy', \n",
    "                            'Test Accuracy', \n",
    "                            'Train ROC AUC', \n",
    "                            'Test ROC AUC', \n",
    "                            'Train F1 Score',\n",
    "                            'Test F1 Score',\n",
    "                            'Train Recall',\n",
    "                            'Test Recall',\n",
    "                            'Train Precision',\n",
    "                            'Test Precision'])\n",
    "\n",
    "listIndex = list(dfEvaluate.index)\n",
    "listIndex[-1] = 'Average'\n",
    "dfEvaluate.index = listIndex\n",
    "dfEvaluate\n",
    "\n"
   ]
  },
  {
   "cell_type": "markdown",
   "metadata": {},
   "source": [
    "## Evaluation Metrics With Oversampling"
   ]
  },
  {
   "cell_type": "code",
   "execution_count": 98,
   "metadata": {},
   "outputs": [
    {
     "data": {
      "text/html": [
       "<div>\n",
       "<style scoped>\n",
       "    .dataframe tbody tr th:only-of-type {\n",
       "        vertical-align: middle;\n",
       "    }\n",
       "\n",
       "    .dataframe tbody tr th {\n",
       "        vertical-align: top;\n",
       "    }\n",
       "\n",
       "    .dataframe thead th {\n",
       "        text-align: right;\n",
       "    }\n",
       "</style>\n",
       "<table border=\"1\" class=\"dataframe\">\n",
       "  <thead>\n",
       "    <tr style=\"text-align: right;\">\n",
       "      <th></th>\n",
       "      <th>Train Accuracy</th>\n",
       "      <th>Test Accuracy</th>\n",
       "      <th>Train ROC AUC</th>\n",
       "      <th>Test ROC AUC</th>\n",
       "      <th>Train F1 Score</th>\n",
       "      <th>Test F1 Score</th>\n",
       "      <th>Train Recall</th>\n",
       "      <th>Test Recall</th>\n",
       "      <th>Train Precision</th>\n",
       "      <th>Test Precision</th>\n",
       "    </tr>\n",
       "  </thead>\n",
       "  <tbody>\n",
       "    <tr>\n",
       "      <th>0</th>\n",
       "      <td>0.649940</td>\n",
       "      <td>0.702288</td>\n",
       "      <td>0.718972</td>\n",
       "      <td>0.737121</td>\n",
       "      <td>0.648802</td>\n",
       "      <td>0.564313</td>\n",
       "      <td>0.593003</td>\n",
       "      <td>0.626100</td>\n",
       "      <td>0.669209</td>\n",
       "      <td>0.214142</td>\n",
       "    </tr>\n",
       "    <tr>\n",
       "      <th>1</th>\n",
       "      <td>0.646906</td>\n",
       "      <td>0.672332</td>\n",
       "      <td>0.715965</td>\n",
       "      <td>0.724352</td>\n",
       "      <td>0.646619</td>\n",
       "      <td>0.542465</td>\n",
       "      <td>0.618426</td>\n",
       "      <td>0.627019</td>\n",
       "      <td>0.655779</td>\n",
       "      <td>0.196051</td>\n",
       "    </tr>\n",
       "    <tr>\n",
       "      <th>2</th>\n",
       "      <td>0.652699</td>\n",
       "      <td>0.693414</td>\n",
       "      <td>0.720432</td>\n",
       "      <td>0.712446</td>\n",
       "      <td>0.651811</td>\n",
       "      <td>0.550896</td>\n",
       "      <td>0.602197</td>\n",
       "      <td>0.584435</td>\n",
       "      <td>0.669854</td>\n",
       "      <td>0.199900</td>\n",
       "    </tr>\n",
       "    <tr>\n",
       "      <th>3</th>\n",
       "      <td>0.658606</td>\n",
       "      <td>0.680176</td>\n",
       "      <td>0.726602</td>\n",
       "      <td>0.695197</td>\n",
       "      <td>0.657992</td>\n",
       "      <td>0.539742</td>\n",
       "      <td>0.616219</td>\n",
       "      <td>0.574156</td>\n",
       "      <td>0.673297</td>\n",
       "      <td>0.189990</td>\n",
       "    </tr>\n",
       "    <tr>\n",
       "      <th>4</th>\n",
       "      <td>0.653365</td>\n",
       "      <td>0.683118</td>\n",
       "      <td>0.719495</td>\n",
       "      <td>0.713094</td>\n",
       "      <td>0.652792</td>\n",
       "      <td>0.546326</td>\n",
       "      <td>0.612725</td>\n",
       "      <td>0.602056</td>\n",
       "      <td>0.666934</td>\n",
       "      <td>0.197305</td>\n",
       "    </tr>\n",
       "    <tr>\n",
       "      <th>Average</th>\n",
       "      <td>0.652303</td>\n",
       "      <td>0.686266</td>\n",
       "      <td>0.720293</td>\n",
       "      <td>0.716442</td>\n",
       "      <td>0.651603</td>\n",
       "      <td>0.548749</td>\n",
       "      <td>0.608514</td>\n",
       "      <td>0.602753</td>\n",
       "      <td>0.667015</td>\n",
       "      <td>0.199478</td>\n",
       "    </tr>\n",
       "  </tbody>\n",
       "</table>\n",
       "</div>"
      ],
      "text/plain": [
       "         Train Accuracy  Test Accuracy  Train ROC AUC  Test ROC AUC  \\\n",
       "0              0.649940       0.702288       0.718972      0.737121   \n",
       "1              0.646906       0.672332       0.715965      0.724352   \n",
       "2              0.652699       0.693414       0.720432      0.712446   \n",
       "3              0.658606       0.680176       0.726602      0.695197   \n",
       "4              0.653365       0.683118       0.719495      0.713094   \n",
       "Average        0.652303       0.686266       0.720293      0.716442   \n",
       "\n",
       "         Train F1 Score  Test F1 Score  Train Recall  Test Recall  \\\n",
       "0              0.648802       0.564313      0.593003     0.626100   \n",
       "1              0.646619       0.542465      0.618426     0.627019   \n",
       "2              0.651811       0.550896      0.602197     0.584435   \n",
       "3              0.657992       0.539742      0.616219     0.574156   \n",
       "4              0.652792       0.546326      0.612725     0.602056   \n",
       "Average        0.651603       0.548749      0.608514     0.602753   \n",
       "\n",
       "         Train Precision  Test Precision  \n",
       "0               0.669209        0.214142  \n",
       "1               0.655779        0.196051  \n",
       "2               0.669854        0.199900  \n",
       "3               0.673297        0.189990  \n",
       "4               0.666934        0.197305  \n",
       "Average         0.667015        0.199478  "
      ]
     },
     "execution_count": 98,
     "metadata": {},
     "output_type": "execute_result"
    }
   ],
   "source": [
    "listItem = []\n",
    "\n",
    "for tr,val in zip(train_errors_with_oversampling,validation_errors_with_oversampling) :\n",
    "    listItem.append([tr['accuracy'],val['accuracy'],tr['roc'],val['roc'],tr['f1'],val['f1'],\n",
    "                     tr['recall'],val['recall'],tr['precision'],val['precision']])\n",
    "\n",
    "listItem.append(list(np.mean(listItem,axis=0)))\n",
    "    \n",
    "dfEvaluate = pd.DataFrame(listItem, \n",
    "                    columns=['Train Accuracy', \n",
    "                            'Test Accuracy', \n",
    "                            'Train ROC AUC', \n",
    "                            'Test ROC AUC', \n",
    "                            'Train F1 Score',\n",
    "                            'Test F1 Score',\n",
    "                            'Train Recall',\n",
    "                            'Test Recall',\n",
    "                            'Train Precision',\n",
    "                            'Test Precision'])\n",
    "\n",
    "listIndex = list(dfEvaluate.index)\n",
    "listIndex[-1] = 'Average'\n",
    "dfEvaluate.index = listIndex\n",
    "dfEvaluate"
   ]
  },
  {
   "cell_type": "markdown",
   "metadata": {},
   "source": [
    "Terlihat bahwa hasil evaluation metricsnya untuk recall dari class positive lebih baik setelah di oversampling dari yang tidak di oversampling tetapi precisionn class positive menjadi sedikit lebih buruk.\n",
    "\n",
    "Ini masuk akal karena class positive datanya kita perbanyak menjadi sama dengan jumlah data dari class negative, dimana ini biasa memang akan membuat recall dari class yg minoritas naik tetapi seringnya precisionnya juga akan turun sebagai dampaknya (Recall dan Precision Trade off). Tetapi untuk kasus kali ini recallnya naik lebih tinggi dari pada precisionnya yang turun. Dan dampak ini terhadap kasus permasalahan kita berarti model kita setelah di oversampling, menjadi mendapatkan potensial nasabah yang lebih banyak dari sebelumnya, tetapi sedikit berkurang dalam ketepatan/precision tebakannya untuk nasabah potensial, yang menyebabkan cost biaya marketing yang terbuang menjadi lebih tinggi dari model yang tidak di oversampling.\n",
    "\n",
    "Sekarang pertanyaannya, model manakah yang lebih baik dan harus kita gunakan? menentukan ini kembali lagi tergantung permasalahan yang sedang dihadapi dan berdasarkan pengertian/pengalaman terhadap domain permasalahannya. Dimana untuk permasalahan kali ini, yang perlu kita perhatikan dan ketahui adalah apakah selama ini nasabah yang potensial itu sudah terlalu banyak dan kita tidak butuh semuanya, atau nasabah yang potensial itu masih pas-pasan atau bahkan kurang. Bila kasus yang pertama yg terjadi (nasabah potensial yang terlalu banyak) maka kita dapat menggunakan model yang tanpa oversampling saja (precision lebih penting dari recall), dan bila kasus yang kedua yg terjadi (nasabah potensial yg pas-pasan atau kurang) maka kita dapat menggunakan model yang menggunakan oversampling (recall lebih penting dari precision).\n",
    "\n",
    "Dimana intinya, pemilihan model yang digunakan harus berdasarkan permasalahan yang dihadapi dan yang dapat menyelesaikan masalahnya paling baik (berdampak paling baik terhadap bisnis/organisasi yang bersangkutan (stakeholdernya)).\n",
    "\n",
    "Mari sekarang kita lihat juga classification reportsnya."
   ]
  },
  {
   "cell_type": "markdown",
   "metadata": {},
   "source": [
    "## Classification Reports Without Oversampling"
   ]
  },
  {
   "cell_type": "code",
   "execution_count": 65,
   "metadata": {},
   "outputs": [
    {
     "name": "stdout",
     "output_type": "stream",
     "text": [
      "              precision    recall  f1-score   support\n",
      "\n",
      "           0       0.91      0.99      0.94      5438\n",
      "           1       0.63      0.18      0.28       682\n",
      "\n",
      "    accuracy                           0.90      6120\n",
      "   macro avg       0.77      0.58      0.61      6120\n",
      "weighted avg       0.88      0.90      0.87      6120\n",
      "\n",
      "              precision    recall  f1-score   support\n",
      "\n",
      "           0       0.91      0.99      0.95      5438\n",
      "           1       0.69      0.20      0.31       681\n",
      "\n",
      "    accuracy                           0.90      6119\n",
      "   macro avg       0.80      0.60      0.63      6119\n",
      "weighted avg       0.88      0.90      0.88      6119\n",
      "\n",
      "              precision    recall  f1-score   support\n",
      "\n",
      "           0       0.90      0.99      0.94      5438\n",
      "           1       0.60      0.16      0.26       681\n",
      "\n",
      "    accuracy                           0.89      6119\n",
      "   macro avg       0.75      0.58      0.60      6119\n",
      "weighted avg       0.87      0.89      0.87      6119\n",
      "\n",
      "              precision    recall  f1-score   support\n",
      "\n",
      "           0       0.90      0.99      0.94      5438\n",
      "           1       0.59      0.17      0.26       681\n",
      "\n",
      "    accuracy                           0.89      6119\n",
      "   macro avg       0.75      0.58      0.60      6119\n",
      "weighted avg       0.87      0.89      0.87      6119\n",
      "\n",
      "              precision    recall  f1-score   support\n",
      "\n",
      "           0       0.91      0.99      0.95      5438\n",
      "           1       0.67      0.18      0.28       681\n",
      "\n",
      "    accuracy                           0.90      6119\n",
      "   macro avg       0.79      0.58      0.61      6119\n",
      "weighted avg       0.88      0.90      0.87      6119\n",
      "\n"
     ]
    }
   ],
   "source": [
    "for rep in validation_errors_without_oversampling :\n",
    "    print(rep['report'])"
   ]
  },
  {
   "cell_type": "markdown",
   "metadata": {},
   "source": [
    "## Classification Reports With Oversampling"
   ]
  },
  {
   "cell_type": "code",
   "execution_count": 99,
   "metadata": {},
   "outputs": [
    {
     "name": "stdout",
     "output_type": "stream",
     "text": [
      "              precision    recall  f1-score   support\n",
      "\n",
      "           0       0.94      0.71      0.81      5438\n",
      "           1       0.21      0.63      0.32       682\n",
      "\n",
      "    accuracy                           0.70      6120\n",
      "   macro avg       0.58      0.67      0.56      6120\n",
      "weighted avg       0.86      0.70      0.75      6120\n",
      "\n",
      "              precision    recall  f1-score   support\n",
      "\n",
      "           0       0.94      0.68      0.79      5438\n",
      "           1       0.20      0.63      0.30       681\n",
      "\n",
      "    accuracy                           0.67      6119\n",
      "   macro avg       0.57      0.65      0.54      6119\n",
      "weighted avg       0.85      0.67      0.73      6119\n",
      "\n",
      "              precision    recall  f1-score   support\n",
      "\n",
      "           0       0.93      0.71      0.80      5438\n",
      "           1       0.20      0.58      0.30       681\n",
      "\n",
      "    accuracy                           0.69      6119\n",
      "   macro avg       0.57      0.65      0.55      6119\n",
      "weighted avg       0.85      0.69      0.75      6119\n",
      "\n",
      "              precision    recall  f1-score   support\n",
      "\n",
      "           0       0.93      0.69      0.79      5438\n",
      "           1       0.19      0.57      0.29       681\n",
      "\n",
      "    accuracy                           0.68      6119\n",
      "   macro avg       0.56      0.63      0.54      6119\n",
      "weighted avg       0.85      0.68      0.74      6119\n",
      "\n",
      "              precision    recall  f1-score   support\n",
      "\n",
      "           0       0.93      0.69      0.80      5438\n",
      "           1       0.20      0.60      0.30       681\n",
      "\n",
      "    accuracy                           0.68      6119\n",
      "   macro avg       0.57      0.65      0.55      6119\n",
      "weighted avg       0.85      0.68      0.74      6119\n",
      "\n"
     ]
    }
   ],
   "source": [
    "for rep in validation_errors_with_oversampling :\n",
    "    print(rep['report'])"
   ]
  },
  {
   "cell_type": "markdown",
   "metadata": {},
   "source": [
    "Terlihat bahwa model yang setelah di oversampling memiliki recall dari kedua class yang lebih seimbang. Oleh karena itu untuk kasus kali ini, mari kita gunakan model yang menggunakan oversampling (menggunakan asumsi yang kedua (yaitu kita membutuhkan nasabah potensial yang lebih banyak)).\n",
    "\n",
    "Sekarang mari kita coba melakukan hyperparameter tuning pada model Logistic Regression kita untuk mendapatkan hasil yang lebih baik lagi."
   ]
  },
  {
   "cell_type": "markdown",
   "metadata": {},
   "source": [
    "## Hyper Parameter Tuning"
   ]
  },
  {
   "cell_type": "code",
   "execution_count": 88,
   "metadata": {},
   "outputs": [],
   "source": [
    "lr = LogisticRegression()\n",
    "ros = RandomOverSampler(random_state=42)\n",
    "\n",
    "estimator=Pipeline([\n",
    "    ('oversampling',ros),\n",
    "    ('model',lr)\n",
    "])"
   ]
  },
  {
   "cell_type": "code",
   "execution_count": 89,
   "metadata": {},
   "outputs": [],
   "source": [
    "hyperparam_space=[{\n",
    "    'model__C': [0.1, 0.075, 0.125, 0.05],\n",
    "    'model__l1_ratio': np.arange(0,1,0.1),\n",
    "    'model__class_weight' : [{0: x, 1: 1-x} for x in [0.1, 0.25, 0.3, 0.20]]\n",
    "}]"
   ]
  },
  {
   "cell_type": "code",
   "execution_count": 90,
   "metadata": {},
   "outputs": [],
   "source": [
    "grid = GridSearchCV(estimator, n_jobs=-1, param_grid=hyperparam_space, scoring='roc_auc', cv=3)"
   ]
  },
  {
   "cell_type": "code",
   "execution_count": 91,
   "metadata": {},
   "outputs": [
    {
     "data": {
      "text/plain": [
       "GridSearchCV(cv=3, error_score=nan,\n",
       "             estimator=Pipeline(memory=None,\n",
       "                                steps=[('oversampling',\n",
       "                                        RandomOverSampler(random_state=42,\n",
       "                                                          ratio=None,\n",
       "                                                          return_indices=False,\n",
       "                                                          sampling_strategy='auto')),\n",
       "                                       ('model',\n",
       "                                        LogisticRegression(C=1.0,\n",
       "                                                           class_weight=None,\n",
       "                                                           dual=False,\n",
       "                                                           fit_intercept=True,\n",
       "                                                           intercept_scaling=1,\n",
       "                                                           l1_ratio=None,\n",
       "                                                           max_iter=100,\n",
       "                                                           multi_class='auto',\n",
       "                                                           n_jobs=None,\n",
       "                                                           penalty='...\n",
       "                                                           verbose=0,\n",
       "                                                           warm_start=False))],\n",
       "                                verbose=False),\n",
       "             iid='deprecated', n_jobs=-1,\n",
       "             param_grid=[{'model__C': [0.1, 0.075, 0.125, 0.05],\n",
       "                          'model__class_weight': [{0: 0.1, 1: 0.9},\n",
       "                                                  {0: 0.25, 1: 0.75},\n",
       "                                                  {0: 0.3, 1: 0.7},\n",
       "                                                  {0: 0.2, 1: 0.8}],\n",
       "                          'model__l1_ratio': array([0. , 0.1, 0.2, 0.3, 0.4, 0.5, 0.6, 0.7, 0.8, 0.9])}],\n",
       "             pre_dispatch='2*n_jobs', refit=True, return_train_score=False,\n",
       "             scoring='roc_auc', verbose=0)"
      ]
     },
     "execution_count": 91,
     "metadata": {},
     "output_type": "execute_result"
    }
   ],
   "source": [
    "grid.fit(X_train, y_train)"
   ]
  },
  {
   "cell_type": "markdown",
   "metadata": {},
   "source": [
    "## Training Best Model"
   ]
  },
  {
   "cell_type": "code",
   "execution_count": 103,
   "metadata": {},
   "outputs": [
    {
     "data": {
      "text/plain": [
       "Pipeline(memory=None,\n",
       "         steps=[('oversampling',\n",
       "                 RandomOverSampler(random_state=42, ratio=None,\n",
       "                                   return_indices=False,\n",
       "                                   sampling_strategy='auto')),\n",
       "                ('model',\n",
       "                 LogisticRegression(C=0.075, class_weight={0: 0.3, 1: 0.7},\n",
       "                                    dual=False, fit_intercept=True,\n",
       "                                    intercept_scaling=1, l1_ratio=0.0,\n",
       "                                    max_iter=100, multi_class='auto',\n",
       "                                    n_jobs=None, penalty='l2',\n",
       "                                    random_state=None, solver='lbfgs',\n",
       "                                    tol=0.0001, verbose=0, warm_start=False))],\n",
       "         verbose=False)"
      ]
     },
     "execution_count": 103,
     "metadata": {},
     "output_type": "execute_result"
    }
   ],
   "source": [
    "best_model = grid.best_estimator_\n",
    "best_model.fit(X_train, y_train)"
   ]
  },
  {
   "cell_type": "code",
   "execution_count": 104,
   "metadata": {},
   "outputs": [
    {
     "data": {
      "text/plain": [
       "Pipeline(memory=None,\n",
       "         steps=[('oversampling',\n",
       "                 RandomOverSampler(random_state=None, ratio=None,\n",
       "                                   return_indices=False,\n",
       "                                   sampling_strategy='auto')),\n",
       "                ('model',\n",
       "                 LogisticRegression(C=1.0, class_weight=None, dual=False,\n",
       "                                    fit_intercept=True, intercept_scaling=1,\n",
       "                                    l1_ratio=None, max_iter=100,\n",
       "                                    multi_class='auto', n_jobs=None,\n",
       "                                    penalty='l2', random_state=None,\n",
       "                                    solver='lbfgs', tol=0.0001, verbose=0,\n",
       "                                    warm_start=False))],\n",
       "         verbose=False)"
      ]
     },
     "execution_count": 104,
     "metadata": {},
     "output_type": "execute_result"
    }
   ],
   "source": [
    "estimator=Pipeline([\n",
    "    ('oversampling',ros),\n",
    "    ('model',lr)\n",
    "])\n",
    "estimator.fit(X_train, y_train)"
   ]
  },
  {
   "cell_type": "code",
   "execution_count": 105,
   "metadata": {},
   "outputs": [
    {
     "name": "stdout",
     "output_type": "stream",
     "text": [
      "ROC AUC Score Default LogReg :  0.7198357498233479\n",
      "ROC AUC Score Tuned LogReg :  0.7210647164829003\n"
     ]
    }
   ],
   "source": [
    "y_pred_default = estimator.predict(X_test)\n",
    "y_pred_proba_default = estimator.predict_proba(X_test)\n",
    "y_pred_tuned = best_model.predict(X_test)\n",
    "y_pred_proba_tuned = best_model.predict_proba(X_test)\n",
    "\n",
    "roc_auc_default = roc_auc_score(y_test, y_pred_proba_default[:,1])\n",
    "roc_auc_tuned = roc_auc_score(y_test, y_pred_proba_tuned[:,1])\n",
    "\n",
    "print('ROC AUC Score Default LogReg : ', roc_auc_default)\n",
    "print('ROC AUC Score Tuned LogReg : ', roc_auc_tuned)"
   ]
  },
  {
   "cell_type": "markdown",
   "metadata": {},
   "source": [
    "Terlihat bahwa model LogReg setelah kita tuning hyperparameternya memiliki nilai ROC AUC yang lebih baik walaupun hanya naik sedikit saja.\n",
    "\n",
    "Mari kita lihat juga perbandingan classification reportnya"
   ]
  },
  {
   "cell_type": "code",
   "execution_count": 106,
   "metadata": {},
   "outputs": [
    {
     "name": "stdout",
     "output_type": "stream",
     "text": [
      "Classification Report Default LogReg : \n",
      "               precision    recall  f1-score   support\n",
      "\n",
      "           0       0.93      0.69      0.80      6797\n",
      "           1       0.20      0.60      0.29       852\n",
      "\n",
      "    accuracy                           0.68      7649\n",
      "   macro avg       0.56      0.64      0.55      7649\n",
      "weighted avg       0.85      0.68      0.74      7649\n",
      "\n",
      "Classification Report Tuned LogReg : \n",
      "               precision    recall  f1-score   support\n",
      "\n",
      "           0       0.96      0.24      0.39      6797\n",
      "           1       0.13      0.93      0.23       852\n",
      "\n",
      "    accuracy                           0.32      7649\n",
      "   macro avg       0.55      0.59      0.31      7649\n",
      "weighted avg       0.87      0.32      0.37      7649\n",
      "\n"
     ]
    }
   ],
   "source": [
    "report_default = classification_report(y_test, y_pred_default)\n",
    "report_tuned = classification_report(y_test, y_pred_tuned)\n",
    "\n",
    "print('Classification Report Default LogReg : \\n', report_default)\n",
    "print('Classification Report Tuned LogReg : \\n', report_tuned)"
   ]
  },
  {
   "cell_type": "markdown",
   "metadata": {},
   "source": [
    "Kembali lagi terlihat bahwa model LogReg setelah kita tuning hyperparameternya memiliki classification report yang lebih baik terutama Recall untuk positive class. Oleh karena itu kita akan menggunakan model LogReg yang sudah di tuned sebagai model akhir kita."
   ]
  },
  {
   "cell_type": "markdown",
   "metadata": {},
   "source": [
    "## Feature Importances\n",
    "\n",
    "Mari sekarang kita lihat fitur/kolom apa saja yang paling penting untuk model LogReg kita menggunakan Coefficient\n"
   ]
  },
  {
   "cell_type": "code",
   "execution_count": 129,
   "metadata": {},
   "outputs": [
    {
     "data": {
      "text/html": [
       "<div>\n",
       "<style scoped>\n",
       "    .dataframe tbody tr th:only-of-type {\n",
       "        vertical-align: middle;\n",
       "    }\n",
       "\n",
       "    .dataframe tbody tr th {\n",
       "        vertical-align: top;\n",
       "    }\n",
       "\n",
       "    .dataframe thead th {\n",
       "        text-align: right;\n",
       "    }\n",
       "</style>\n",
       "<table border=\"1\" class=\"dataframe\">\n",
       "  <thead>\n",
       "    <tr style=\"text-align: right;\">\n",
       "      <th></th>\n",
       "      <th>Coeff</th>\n",
       "    </tr>\n",
       "  </thead>\n",
       "  <tbody>\n",
       "    <tr>\n",
       "      <th>pdays</th>\n",
       "      <td>1.185618</td>\n",
       "    </tr>\n",
       "    <tr>\n",
       "      <th>poutcome_success</th>\n",
       "      <td>1.053822</td>\n",
       "    </tr>\n",
       "    <tr>\n",
       "      <th>contact</th>\n",
       "      <td>0.840463</td>\n",
       "    </tr>\n",
       "    <tr>\n",
       "      <th>job_retired</th>\n",
       "      <td>0.774992</td>\n",
       "    </tr>\n",
       "    <tr>\n",
       "      <th>job_student</th>\n",
       "      <td>0.631790</td>\n",
       "    </tr>\n",
       "    <tr>\n",
       "      <th>previous</th>\n",
       "      <td>0.340668</td>\n",
       "    </tr>\n",
       "    <tr>\n",
       "      <th>poutcome_nonexistent</th>\n",
       "      <td>0.261971</td>\n",
       "    </tr>\n",
       "    <tr>\n",
       "      <th>marital_single</th>\n",
       "      <td>0.218440</td>\n",
       "    </tr>\n",
       "    <tr>\n",
       "      <th>education</th>\n",
       "      <td>0.063156</td>\n",
       "    </tr>\n",
       "    <tr>\n",
       "      <th>marital_married</th>\n",
       "      <td>0.025776</td>\n",
       "    </tr>\n",
       "  </tbody>\n",
       "</table>\n",
       "</div>"
      ],
      "text/plain": [
       "                         Coeff\n",
       "pdays                 1.185618\n",
       "poutcome_success      1.053822\n",
       "contact               0.840463\n",
       "job_retired           0.774992\n",
       "job_student           0.631790\n",
       "previous              0.340668\n",
       "poutcome_nonexistent  0.261971\n",
       "marital_single        0.218440\n",
       "education             0.063156\n",
       "marital_married       0.025776"
      ]
     },
     "execution_count": 129,
     "metadata": {},
     "output_type": "execute_result"
    }
   ],
   "source": [
    "pd.DataFrame(data = best_model['model'].coef_.reshape(23,1), index = [X_train.columns], columns =['Coeff']).sort_values(by ='Coeff', ascending=False)[:10]"
   ]
  },
  {
   "cell_type": "code",
   "execution_count": 133,
   "metadata": {},
   "outputs": [
    {
     "data": {
      "image/png": "[encoded data removed]",
      "text/plain": [
       "<Figure size 432x288 with 1 Axes>"
      ]
     },
     "metadata": {
      "needs_background": "light"
     },
     "output_type": "display_data"
    }
   ],
   "source": [
    "coef1 = pd.DataFrame(data = best_model['model'].coef_.reshape(23,1), index = [X_train.columns], columns =['Coeff']).sort_values(by ='Coeff', ascending=False)[:10]\n",
    "coef1.plot(kind='barh', title='Feature Importances');"
   ]
  },
  {
   "cell_type": "markdown",
   "metadata": {},
   "source": [
    "Terlihat bahwa ternyata untuk model LogReg kita, fitur/kolom pdays adalah yang paling penting, kemudian diikuti dengan poutcome_success, contact, dan selanjutnya."
   ]
  },
  {
   "cell_type": "markdown",
   "metadata": {},
   "source": [
    "## Conclusion & Recommendation"
   ]
  },
  {
   "cell_type": "code",
   "execution_count": 134,
   "metadata": {},
   "outputs": [
    {
     "name": "stdout",
     "output_type": "stream",
     "text": [
      "Classification Report Tuned LogReg : \n",
      "               precision    recall  f1-score   support\n",
      "\n",
      "           0       0.96      0.24      0.39      6797\n",
      "           1       0.13      0.93      0.23       852\n",
      "\n",
      "    accuracy                           0.32      7649\n",
      "   macro avg       0.55      0.59      0.31      7649\n",
      "weighted avg       0.87      0.32      0.37      7649\n",
      "\n"
     ]
    }
   ],
   "source": [
    "print('Classification Report Tuned LogReg : \\n', report_tuned)"
   ]
  },
  {
   "cell_type": "markdown",
   "metadata": {},
   "source": [
    "**Conclusion**\n",
    "\n",
    "\n",
    "\n",
    "\n",
    "Berdasarkan hasil classification report dari model kita, kita dapat menyimpulkan/mengambil konklusi bahwa bila seandainya nanti kita menggunakan model kita untuk memfilter/menyaring list nasabah yang akan kita coba tawarkan, maka model kita dapat mengurangi 24% kandidat yang tidak tertarik untuk tidak kita approach, dan model kita dapat mendapatkan 93% nasabah yang tertarik dari seluruh nasabah yang tertarik. (semua ini berdasarkan recallnya)\n",
    "\n",
    "\n",
    "**Simulasi**\n",
    "\n",
    "\n",
    "Bila kita asumsikan dalam satu bulan marketing akan menghubungi 400 orang, 100 orang setiap minggu, dan jika ada 200 orang yg aktual nya tertarik sedangkan 200 orang aktual tidak tertarik, tanpa menggunakan model kita akan mendapatkan 200 orang yg tertarik dalam waktu 1 bulan penuh (semua nasabah dihubungi), tetapi jika menggunakan model, dalam 2 minggu pertama kita bisa mendapatkan 93% dari 200 aktual atau sekitar 186 orang, dan jika dalam 2 minggu berikutnya bisa gunakan untuk menambah nasabah lagi, jika kita asumsikan dg jumlah yg sama, maka dalam 1 bulan, jika tanpa menggunakan model kita akan mendapatkan 200 nasabah, sedangkan jika menggunakan model kita bisa mendapatkan 186 + 186 = 372 nasabah.\n",
    "\n",
    "Keuntungan yg di dapatkan dalam 1 bulan jika tanpa Model :\n",
    "Profit dari perbankan adalah selisih antara Bunga kredit pinjaman dikurangi Bunga Deposito yg diberikan ke nasabah.\n",
    "Berdasarkan Bunga Deposito di https://www.bankmandiri.co.id/web/guest/suku-bunga-dana#deposito, kita gunakan Bunga depositio Bank Mandiri 2.5% (tenor 1 tahun) dan berdasarkan https://www.ojk.go.id/id/kanal/perbankan/pages/suku-bunga-dasar.aspx, kita gunakan Kredit Mikro dari bank Mandiri sebesar 11.25%, maka Keuntungan yg di dapatkan Bank adalah 11.25% - 2.5% = 8.75%. Dengan minimum deposito sesuai di link referensi (https://www.bankmandiri.co.id/web/guest/suku-bunga-dana#deposito) adalah 10.000.0000, maka :\n",
    "\n",
    "Tanpa Model (semua nasabah dihubungi - Perhitungan asumsi dalam 1 bulan)\n",
    "\n",
    "    Keuntungan Minimum per Nasabah : 10.000.000 x 8.75% = 875.000\n",
    "    Keuntungan Minimum dalam 1 bulan : 200 nasabah x 875.000 = 175.000.000\n",
    "\n",
    "Dengan Menggunakan Model :\n",
    "\n",
    "    Kita bisa mendapatkan Total nasabah 186 + 186 = 372\n",
    "    Keuntungan minimum dalam 1 bulan : 372 nasabah x 875.000 = 325.500.000\n",
    "    \n",
    "Selisih Keuntungan yg didapatkan ketika kita menggunakan model dibandingkan jika kita tidak menggunakan model adalah :\n",
    "\n",
    "    325.000.000 - 175.000.000 = 150.500.000 (ini merupakan Keuntungan Minimal dg asumsi Nasabah menyimpan deposito 10 juta)"
   ]
  },
  {
   "cell_type": "markdown",
   "metadata": {},
   "source": [
    "**Recommendation**\n",
    "\n",
    "Hal-hal yang bisa dilakukan untuk mengembangkan project dan modelnya lebih baik lagi :\n",
    "\n",
    "- Menambahkan kolom Saldo Nasabah agar kita bisa melakukan penyaringan awal, nasabah mana yg potensial berdasarkan range Saldo Bank nasabah tersebut..\n",
    "- Menambahkan fitur2 atau kolom2 baru yang kemungkinan bisa berhubungan dengan ketertarikannya, seperti alamat nasabah, gaji atau pendapatannya sekarang, jabatan pekerjaannya sekarang (apakah karyawan, manager, direktur, dan sebagainya), tunjangan apa saja yang didapatkan ditempat kerjanya sekarang, dll.\n",
    "- Mencoba algorithm ML yang lain dan juga mencoba hyperparameter tuning kembali, coba gunakan teknik oversampling yang berbeda juga selain Random Over Sampling, seperti SMOTE, dll.\n",
    "- Menganalisa data-data yang model kita masih salah tebak untuk mengetahui alasannya dan karakteristiknya bagaimana."
   ]
  },
  {
   "cell_type": "code",
   "execution_count": null,
   "metadata": {},
   "outputs": [],
   "source": []
  }
 ],
 "metadata": {
  "kernelspec": {
   "display_name": "Python [conda env:Alpha]",
   "language": "python",
   "name": "conda-env-Alpha-py"
  },
  "language_info": {
   "codemirror_mode": {
    "name": "ipython",
    "version": 3
   },
   "file_extension": ".py",
   "mimetype": "text/x-python",
   "name": "python",
   "nbconvert_exporter": "python",
   "pygments_lexer": "ipython3",
   "version": "3.7.6"
  }
 },
 "nbformat": 4,
 "nbformat_minor": 4
}
